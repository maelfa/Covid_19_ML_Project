{
 "cells": [
  {
   "cell_type": "markdown",
   "metadata": {},
   "source": [
    "## 1. Loading required libraries"
   ]
  },
  {
   "cell_type": "code",
   "execution_count": 1,
   "metadata": {},
   "outputs": [],
   "source": [
    "import numpy as np\n",
    "import pandas as pd\n",
    "import matplotlib.pyplot as plt\n",
    "import seaborn as sns\n",
    "import os\n",
    "pd.set_option('display.max_rows', 500)\n",
    "pd.set_option('display.max_columns', 500)\n",
    "pd.set_option('display.width', 1000)"
   ]
  },
  {
   "cell_type": "markdown",
   "metadata": {},
   "source": [
    "## 2. Mexico gourvement loading Covid 19 dataset"
   ]
  },
  {
   "cell_type": "code",
   "execution_count": 2,
   "metadata": {},
   "outputs": [
    {
     "data": {
      "text/plain": [
       "'/home/mael/Covid_19_ML_Project/c19mlp/covid_dataset/covid.csv'"
      ]
     },
     "execution_count": 2,
     "metadata": {},
     "output_type": "execute_result"
    }
   ],
   "source": [
    "file_path = \"/home/mael/Covid_19_ML_Project/c19mlp/covid_dataset/covid.csv\"\n",
    "file_path"
   ]
  },
  {
   "cell_type": "code",
   "execution_count": 3,
   "metadata": {},
   "outputs": [],
   "source": [
    "#loading of with the NA figures in the dataset\n",
    "covid_pp = pd.read_csv(file_path,sep=',', na_values=[97,98,99])"
   ]
  },
  {
   "cell_type": "code",
   "execution_count": 4,
   "metadata": {},
   "outputs": [],
   "source": [
    "covid_pp_df= covid_pp.copy()"
   ]
  },
  {
   "cell_type": "code",
   "execution_count": 5,
   "metadata": {},
   "outputs": [
    {
     "data": {
      "text/html": [
       "<div>\n",
       "<style scoped>\n",
       "    .dataframe tbody tr th:only-of-type {\n",
       "        vertical-align: middle;\n",
       "    }\n",
       "\n",
       "    .dataframe tbody tr th {\n",
       "        vertical-align: top;\n",
       "    }\n",
       "\n",
       "    .dataframe thead th {\n",
       "        text-align: right;\n",
       "    }\n",
       "</style>\n",
       "<table border=\"1\" class=\"dataframe\">\n",
       "  <thead>\n",
       "    <tr style=\"text-align: right;\">\n",
       "      <th></th>\n",
       "      <th>id</th>\n",
       "      <th>sex</th>\n",
       "      <th>patient_type</th>\n",
       "      <th>entry_date</th>\n",
       "      <th>date_symptoms</th>\n",
       "      <th>date_died</th>\n",
       "      <th>intubed</th>\n",
       "      <th>pneumonia</th>\n",
       "      <th>age</th>\n",
       "      <th>pregnancy</th>\n",
       "      <th>diabetes</th>\n",
       "      <th>copd</th>\n",
       "      <th>asthma</th>\n",
       "      <th>inmsupr</th>\n",
       "      <th>hypertension</th>\n",
       "      <th>other_disease</th>\n",
       "      <th>cardiovascular</th>\n",
       "      <th>obesity</th>\n",
       "      <th>renal_chronic</th>\n",
       "      <th>tobacco</th>\n",
       "      <th>contact_other_covid</th>\n",
       "      <th>covid_res</th>\n",
       "      <th>icu</th>\n",
       "    </tr>\n",
       "  </thead>\n",
       "  <tbody>\n",
       "    <tr>\n",
       "      <th>0</th>\n",
       "      <td>16169f</td>\n",
       "      <td>2</td>\n",
       "      <td>1</td>\n",
       "      <td>04-05-2020</td>\n",
       "      <td>02-05-2020</td>\n",
       "      <td>9999-99-99</td>\n",
       "      <td>NaN</td>\n",
       "      <td>2.0</td>\n",
       "      <td>27.0</td>\n",
       "      <td>NaN</td>\n",
       "      <td>2.0</td>\n",
       "      <td>2.0</td>\n",
       "      <td>2.0</td>\n",
       "      <td>2.0</td>\n",
       "      <td>2.0</td>\n",
       "      <td>2.0</td>\n",
       "      <td>2.0</td>\n",
       "      <td>2.0</td>\n",
       "      <td>2.0</td>\n",
       "      <td>2.0</td>\n",
       "      <td>2.0</td>\n",
       "      <td>1</td>\n",
       "      <td>NaN</td>\n",
       "    </tr>\n",
       "    <tr>\n",
       "      <th>1</th>\n",
       "      <td>1009bf</td>\n",
       "      <td>2</td>\n",
       "      <td>1</td>\n",
       "      <td>19-03-2020</td>\n",
       "      <td>17-03-2020</td>\n",
       "      <td>9999-99-99</td>\n",
       "      <td>NaN</td>\n",
       "      <td>2.0</td>\n",
       "      <td>24.0</td>\n",
       "      <td>NaN</td>\n",
       "      <td>2.0</td>\n",
       "      <td>2.0</td>\n",
       "      <td>2.0</td>\n",
       "      <td>2.0</td>\n",
       "      <td>2.0</td>\n",
       "      <td>2.0</td>\n",
       "      <td>2.0</td>\n",
       "      <td>2.0</td>\n",
       "      <td>2.0</td>\n",
       "      <td>2.0</td>\n",
       "      <td>NaN</td>\n",
       "      <td>1</td>\n",
       "      <td>NaN</td>\n",
       "    </tr>\n",
       "    <tr>\n",
       "      <th>2</th>\n",
       "      <td>167386</td>\n",
       "      <td>1</td>\n",
       "      <td>2</td>\n",
       "      <td>06-04-2020</td>\n",
       "      <td>01-04-2020</td>\n",
       "      <td>9999-99-99</td>\n",
       "      <td>2.0</td>\n",
       "      <td>2.0</td>\n",
       "      <td>54.0</td>\n",
       "      <td>2.0</td>\n",
       "      <td>2.0</td>\n",
       "      <td>2.0</td>\n",
       "      <td>2.0</td>\n",
       "      <td>2.0</td>\n",
       "      <td>2.0</td>\n",
       "      <td>2.0</td>\n",
       "      <td>2.0</td>\n",
       "      <td>1.0</td>\n",
       "      <td>2.0</td>\n",
       "      <td>2.0</td>\n",
       "      <td>NaN</td>\n",
       "      <td>1</td>\n",
       "      <td>2.0</td>\n",
       "    </tr>\n",
       "    <tr>\n",
       "      <th>3</th>\n",
       "      <td>0b5948</td>\n",
       "      <td>2</td>\n",
       "      <td>2</td>\n",
       "      <td>17-04-2020</td>\n",
       "      <td>10-04-2020</td>\n",
       "      <td>9999-99-99</td>\n",
       "      <td>2.0</td>\n",
       "      <td>1.0</td>\n",
       "      <td>30.0</td>\n",
       "      <td>NaN</td>\n",
       "      <td>2.0</td>\n",
       "      <td>2.0</td>\n",
       "      <td>2.0</td>\n",
       "      <td>2.0</td>\n",
       "      <td>2.0</td>\n",
       "      <td>2.0</td>\n",
       "      <td>2.0</td>\n",
       "      <td>2.0</td>\n",
       "      <td>2.0</td>\n",
       "      <td>2.0</td>\n",
       "      <td>NaN</td>\n",
       "      <td>1</td>\n",
       "      <td>2.0</td>\n",
       "    </tr>\n",
       "    <tr>\n",
       "      <th>4</th>\n",
       "      <td>0d01b5</td>\n",
       "      <td>1</td>\n",
       "      <td>2</td>\n",
       "      <td>13-04-2020</td>\n",
       "      <td>13-04-2020</td>\n",
       "      <td>22-04-2020</td>\n",
       "      <td>2.0</td>\n",
       "      <td>2.0</td>\n",
       "      <td>60.0</td>\n",
       "      <td>2.0</td>\n",
       "      <td>1.0</td>\n",
       "      <td>2.0</td>\n",
       "      <td>2.0</td>\n",
       "      <td>2.0</td>\n",
       "      <td>1.0</td>\n",
       "      <td>2.0</td>\n",
       "      <td>1.0</td>\n",
       "      <td>2.0</td>\n",
       "      <td>2.0</td>\n",
       "      <td>2.0</td>\n",
       "      <td>NaN</td>\n",
       "      <td>1</td>\n",
       "      <td>2.0</td>\n",
       "    </tr>\n",
       "  </tbody>\n",
       "</table>\n",
       "</div>"
      ],
      "text/plain": [
       "       id  sex  patient_type  entry_date date_symptoms   date_died  intubed  pneumonia   age  pregnancy  diabetes  copd  asthma  inmsupr  hypertension  other_disease  cardiovascular  obesity  renal_chronic  tobacco  contact_other_covid  covid_res  icu\n",
       "0  16169f    2             1  04-05-2020    02-05-2020  9999-99-99      NaN        2.0  27.0        NaN       2.0   2.0     2.0      2.0           2.0            2.0             2.0      2.0            2.0      2.0                  2.0          1  NaN\n",
       "1  1009bf    2             1  19-03-2020    17-03-2020  9999-99-99      NaN        2.0  24.0        NaN       2.0   2.0     2.0      2.0           2.0            2.0             2.0      2.0            2.0      2.0                  NaN          1  NaN\n",
       "2  167386    1             2  06-04-2020    01-04-2020  9999-99-99      2.0        2.0  54.0        2.0       2.0   2.0     2.0      2.0           2.0            2.0             2.0      1.0            2.0      2.0                  NaN          1  2.0\n",
       "3  0b5948    2             2  17-04-2020    10-04-2020  9999-99-99      2.0        1.0  30.0        NaN       2.0   2.0     2.0      2.0           2.0            2.0             2.0      2.0            2.0      2.0                  NaN          1  2.0\n",
       "4  0d01b5    1             2  13-04-2020    13-04-2020  22-04-2020      2.0        2.0  60.0        2.0       1.0   2.0     2.0      2.0           1.0            2.0             1.0      2.0            2.0      2.0                  NaN          1  2.0"
      ]
     },
     "execution_count": 5,
     "metadata": {},
     "output_type": "execute_result"
    }
   ],
   "source": [
    "covid_pp_df.head()"
   ]
  },
  {
   "cell_type": "code",
   "execution_count": 6,
   "metadata": {},
   "outputs": [
    {
     "data": {
      "text/plain": [
       "<matplotlib.axes._subplots.AxesSubplot at 0x7f829814a990>"
      ]
     },
     "execution_count": 6,
     "metadata": {},
     "output_type": "execute_result"
    },
    {
     "data": {
      "image/png": "[encoded data removed]",
      "text/plain": [
       "<Figure size 864x864 with 1 Axes>"
      ]
     },
     "metadata": {
      "needs_background": "light"
     },
     "output_type": "display_data"
    }
   ],
   "source": [
    "# dataset's NA values analysis\n",
    "plt.figure(figsize=(12,12))\n",
    "sns.heatmap(covid_pp_df.isna(), cbar=False)"
   ]
  },
  {
   "cell_type": "code",
   "execution_count": 7,
   "metadata": {},
   "outputs": [
    {
     "data": {
      "text/plain": [
       "icu                    0.785055\n",
       "intubed                0.785054\n",
       "pregnancy              0.509527\n",
       "contact_other_covid    0.308913\n",
       "other_disease          0.004585\n",
       "diabetes               0.003496\n",
       "inmsupr                0.003495\n",
       "tobacco                0.003366\n",
       "hypertension           0.003219\n",
       "cardiovascular         0.003216\n",
       "renal_chronic          0.003163\n",
       "obesity                0.003143\n",
       "asthma                 0.003092\n",
       "copd                   0.003087\n",
       "age                    0.000365\n",
       "pneumonia              0.000019\n",
       "id                     0.000005\n",
       "covid_res              0.000000\n",
       "date_died              0.000000\n",
       "date_symptoms          0.000000\n",
       "entry_date             0.000000\n",
       "patient_type           0.000000\n",
       "sex                    0.000000\n",
       "dtype: float64"
      ]
     },
     "execution_count": 7,
     "metadata": {},
     "output_type": "execute_result"
    }
   ],
   "source": [
    "(covid_pp_df.isna().sum()/covid_pp_df.shape[0]).sort_values(ascending=False)"
   ]
  },
  {
   "cell_type": "code",
   "execution_count": 8,
   "metadata": {
    "scrolled": true
   },
   "outputs": [
    {
     "data": {
      "text/plain": [
       "(566602, 23)"
      ]
     },
     "execution_count": 8,
     "metadata": {},
     "output_type": "execute_result"
    }
   ],
   "source": [
    "covid_pp_df.shape"
   ]
  },
  {
   "cell_type": "code",
   "execution_count": 9,
   "metadata": {},
   "outputs": [
    {
     "name": "stdout",
     "output_type": "stream",
     "text": [
      "<class 'pandas.core.frame.DataFrame'>\n",
      "RangeIndex: 566602 entries, 0 to 566601\n",
      "Data columns (total 23 columns):\n",
      " #   Column               Non-Null Count   Dtype  \n",
      "---  ------               --------------   -----  \n",
      " 0   id                   566599 non-null  object \n",
      " 1   sex                  566602 non-null  int64  \n",
      " 2   patient_type         566602 non-null  int64  \n",
      " 3   entry_date           566602 non-null  object \n",
      " 4   date_symptoms        566602 non-null  object \n",
      " 5   date_died            566602 non-null  object \n",
      " 6   intubed              121789 non-null  float64\n",
      " 7   pneumonia            566591 non-null  float64\n",
      " 8   age                  566395 non-null  float64\n",
      " 9   pregnancy            277903 non-null  float64\n",
      " 10  diabetes             564621 non-null  float64\n",
      " 11  copd                 564853 non-null  float64\n",
      " 12  asthma               564850 non-null  float64\n",
      " 13  inmsupr              564622 non-null  float64\n",
      " 14  hypertension         564778 non-null  float64\n",
      " 15  other_disease        564004 non-null  float64\n",
      " 16  cardiovascular       564780 non-null  float64\n",
      " 17  obesity              564821 non-null  float64\n",
      " 18  renal_chronic        564810 non-null  float64\n",
      " 19  tobacco              564695 non-null  float64\n",
      " 20  contact_other_covid  391571 non-null  float64\n",
      " 21  covid_res            566602 non-null  int64  \n",
      " 22  icu                  121788 non-null  float64\n",
      "dtypes: float64(16), int64(3), object(4)\n",
      "memory usage: 99.4+ MB\n"
     ]
    }
   ],
   "source": [
    "covid_pp_df.info()"
   ]
  },
  {
   "cell_type": "markdown",
   "metadata": {},
   "source": [
    "⚠️ **During the EDA, we indentify only \"date_died\" feature useful for our case, to conclude we will drop the others type object features**"
   ]
  },
  {
   "cell_type": "code",
   "execution_count": 10,
   "metadata": {
    "scrolled": true
   },
   "outputs": [
    {
     "data": {
      "text/html": [
       "<div>\n",
       "<style scoped>\n",
       "    .dataframe tbody tr th:only-of-type {\n",
       "        vertical-align: middle;\n",
       "    }\n",
       "\n",
       "    .dataframe tbody tr th {\n",
       "        vertical-align: top;\n",
       "    }\n",
       "\n",
       "    .dataframe thead th {\n",
       "        text-align: right;\n",
       "    }\n",
       "</style>\n",
       "<table border=\"1\" class=\"dataframe\">\n",
       "  <thead>\n",
       "    <tr style=\"text-align: right;\">\n",
       "      <th></th>\n",
       "      <th>id</th>\n",
       "      <th>sex</th>\n",
       "      <th>patient_type</th>\n",
       "      <th>entry_date</th>\n",
       "      <th>date_symptoms</th>\n",
       "      <th>date_died</th>\n",
       "      <th>intubed</th>\n",
       "      <th>pneumonia</th>\n",
       "      <th>age</th>\n",
       "      <th>pregnancy</th>\n",
       "      <th>diabetes</th>\n",
       "      <th>copd</th>\n",
       "      <th>asthma</th>\n",
       "      <th>inmsupr</th>\n",
       "      <th>hypertension</th>\n",
       "      <th>other_disease</th>\n",
       "      <th>cardiovascular</th>\n",
       "      <th>obesity</th>\n",
       "      <th>renal_chronic</th>\n",
       "      <th>tobacco</th>\n",
       "      <th>contact_other_covid</th>\n",
       "      <th>covid_res</th>\n",
       "      <th>icu</th>\n",
       "    </tr>\n",
       "  </thead>\n",
       "  <tbody>\n",
       "    <tr>\n",
       "      <th>0</th>\n",
       "      <td>16169f</td>\n",
       "      <td>2</td>\n",
       "      <td>1</td>\n",
       "      <td>04-05-2020</td>\n",
       "      <td>02-05-2020</td>\n",
       "      <td>9999-99-99</td>\n",
       "      <td>NaN</td>\n",
       "      <td>2.0</td>\n",
       "      <td>27.0</td>\n",
       "      <td>NaN</td>\n",
       "      <td>2.0</td>\n",
       "      <td>2.0</td>\n",
       "      <td>2.0</td>\n",
       "      <td>2.0</td>\n",
       "      <td>2.0</td>\n",
       "      <td>2.0</td>\n",
       "      <td>2.0</td>\n",
       "      <td>2.0</td>\n",
       "      <td>2.0</td>\n",
       "      <td>2.0</td>\n",
       "      <td>2.0</td>\n",
       "      <td>1</td>\n",
       "      <td>NaN</td>\n",
       "    </tr>\n",
       "    <tr>\n",
       "      <th>1</th>\n",
       "      <td>1009bf</td>\n",
       "      <td>2</td>\n",
       "      <td>1</td>\n",
       "      <td>19-03-2020</td>\n",
       "      <td>17-03-2020</td>\n",
       "      <td>9999-99-99</td>\n",
       "      <td>NaN</td>\n",
       "      <td>2.0</td>\n",
       "      <td>24.0</td>\n",
       "      <td>NaN</td>\n",
       "      <td>2.0</td>\n",
       "      <td>2.0</td>\n",
       "      <td>2.0</td>\n",
       "      <td>2.0</td>\n",
       "      <td>2.0</td>\n",
       "      <td>2.0</td>\n",
       "      <td>2.0</td>\n",
       "      <td>2.0</td>\n",
       "      <td>2.0</td>\n",
       "      <td>2.0</td>\n",
       "      <td>NaN</td>\n",
       "      <td>1</td>\n",
       "      <td>NaN</td>\n",
       "    </tr>\n",
       "    <tr>\n",
       "      <th>2</th>\n",
       "      <td>167386</td>\n",
       "      <td>1</td>\n",
       "      <td>2</td>\n",
       "      <td>06-04-2020</td>\n",
       "      <td>01-04-2020</td>\n",
       "      <td>9999-99-99</td>\n",
       "      <td>2.0</td>\n",
       "      <td>2.0</td>\n",
       "      <td>54.0</td>\n",
       "      <td>2.0</td>\n",
       "      <td>2.0</td>\n",
       "      <td>2.0</td>\n",
       "      <td>2.0</td>\n",
       "      <td>2.0</td>\n",
       "      <td>2.0</td>\n",
       "      <td>2.0</td>\n",
       "      <td>2.0</td>\n",
       "      <td>1.0</td>\n",
       "      <td>2.0</td>\n",
       "      <td>2.0</td>\n",
       "      <td>NaN</td>\n",
       "      <td>1</td>\n",
       "      <td>2.0</td>\n",
       "    </tr>\n",
       "    <tr>\n",
       "      <th>3</th>\n",
       "      <td>0b5948</td>\n",
       "      <td>2</td>\n",
       "      <td>2</td>\n",
       "      <td>17-04-2020</td>\n",
       "      <td>10-04-2020</td>\n",
       "      <td>9999-99-99</td>\n",
       "      <td>2.0</td>\n",
       "      <td>1.0</td>\n",
       "      <td>30.0</td>\n",
       "      <td>NaN</td>\n",
       "      <td>2.0</td>\n",
       "      <td>2.0</td>\n",
       "      <td>2.0</td>\n",
       "      <td>2.0</td>\n",
       "      <td>2.0</td>\n",
       "      <td>2.0</td>\n",
       "      <td>2.0</td>\n",
       "      <td>2.0</td>\n",
       "      <td>2.0</td>\n",
       "      <td>2.0</td>\n",
       "      <td>NaN</td>\n",
       "      <td>1</td>\n",
       "      <td>2.0</td>\n",
       "    </tr>\n",
       "    <tr>\n",
       "      <th>4</th>\n",
       "      <td>0d01b5</td>\n",
       "      <td>1</td>\n",
       "      <td>2</td>\n",
       "      <td>13-04-2020</td>\n",
       "      <td>13-04-2020</td>\n",
       "      <td>22-04-2020</td>\n",
       "      <td>2.0</td>\n",
       "      <td>2.0</td>\n",
       "      <td>60.0</td>\n",
       "      <td>2.0</td>\n",
       "      <td>1.0</td>\n",
       "      <td>2.0</td>\n",
       "      <td>2.0</td>\n",
       "      <td>2.0</td>\n",
       "      <td>1.0</td>\n",
       "      <td>2.0</td>\n",
       "      <td>1.0</td>\n",
       "      <td>2.0</td>\n",
       "      <td>2.0</td>\n",
       "      <td>2.0</td>\n",
       "      <td>NaN</td>\n",
       "      <td>1</td>\n",
       "      <td>2.0</td>\n",
       "    </tr>\n",
       "  </tbody>\n",
       "</table>\n",
       "</div>"
      ],
      "text/plain": [
       "       id  sex  patient_type  entry_date date_symptoms   date_died  intubed  pneumonia   age  pregnancy  diabetes  copd  asthma  inmsupr  hypertension  other_disease  cardiovascular  obesity  renal_chronic  tobacco  contact_other_covid  covid_res  icu\n",
       "0  16169f    2             1  04-05-2020    02-05-2020  9999-99-99      NaN        2.0  27.0        NaN       2.0   2.0     2.0      2.0           2.0            2.0             2.0      2.0            2.0      2.0                  2.0          1  NaN\n",
       "1  1009bf    2             1  19-03-2020    17-03-2020  9999-99-99      NaN        2.0  24.0        NaN       2.0   2.0     2.0      2.0           2.0            2.0             2.0      2.0            2.0      2.0                  NaN          1  NaN\n",
       "2  167386    1             2  06-04-2020    01-04-2020  9999-99-99      2.0        2.0  54.0        2.0       2.0   2.0     2.0      2.0           2.0            2.0             2.0      1.0            2.0      2.0                  NaN          1  2.0\n",
       "3  0b5948    2             2  17-04-2020    10-04-2020  9999-99-99      2.0        1.0  30.0        NaN       2.0   2.0     2.0      2.0           2.0            2.0             2.0      2.0            2.0      2.0                  NaN          1  2.0\n",
       "4  0d01b5    1             2  13-04-2020    13-04-2020  22-04-2020      2.0        2.0  60.0        2.0       1.0   2.0     2.0      2.0           1.0            2.0             1.0      2.0            2.0      2.0                  NaN          1  2.0"
      ]
     },
     "execution_count": 10,
     "metadata": {},
     "output_type": "execute_result"
    }
   ],
   "source": [
    "covid_pp_df.head()"
   ]
  },
  {
   "cell_type": "markdown",
   "metadata": {},
   "source": [
    "## 3.1 Pre - Processing Raw dataset \"covid_pp_df\n",
    "\n",
    "**objective:** \n",
    "- perform some feature engineering/encoding/imputation to improve the efficiency feature management from the raw dataset\n",
    "- perform performance analysis beteween feature engineering/model's refrence prediction   "
   ]
  },
  {
   "cell_type": "code",
   "execution_count": null,
   "metadata": {},
   "outputs": [],
   "source": []
  },
  {
   "cell_type": "markdown",
   "metadata": {},
   "source": [
    "## 3.2 TrainTest - tagets balancing check - features Engineering / Encoding / Imputing - Pre-processing"
   ]
  },
  {
   "cell_type": "code",
   "execution_count": 12,
   "metadata": {},
   "outputs": [],
   "source": [
    "#import machine learning library\n",
    "from sklearn.model_selection import train_test_split, learning_curve, GridSearchCV, RandomizedSearchCV\n",
    "from sklearn.tree import DecisionTreeClassifier\n",
    "from sklearn.metrics import f1_score, confusion_matrix, classification_report,precision_recall_curve, recall_score\n",
    "from sklearn.pipeline import make_pipeline\n",
    "from sklearn.feature_selection import SelectKBest, f_classif\n",
    "from sklearn.compose import make_column_selector\n",
    "from sklearn.preprocessing import PolynomialFeatures, StandardScaler\n",
    "from sklearn. decomposition import PCA\n",
    "from sklearn.ensemble import RandomForestClassifier, AdaBoostClassifier\n",
    "from sklearn.svm import SVC\n",
    "from sklearn.neighbors import KNeighborsClassifier\n",
    "from imblearn.over_sampling import SMOTE\n",
    "from collections import Counter"
   ]
  },
  {
   "cell_type": "markdown",
   "metadata": {},
   "source": [
    "- **Train/Test split**"
   ]
  },
  {
   "cell_type": "code",
   "execution_count": 13,
   "metadata": {},
   "outputs": [],
   "source": [
    "#split of the dataset in a trainset and a testset 'size=20%' \n",
    "trainset, testset = train_test_split(covid_pp_df, test_size= 0.2, random_state=0)"
   ]
  },
  {
   "cell_type": "markdown",
   "metadata": {},
   "source": [
    "- **Train/Test tagets balancing check**"
   ]
  },
  {
   "cell_type": "code",
   "execution_count": 14,
   "metadata": {},
   "outputs": [
    {
     "data": {
      "text/plain": [
       "2    49.228624\n",
       "1    38.954203\n",
       "3    11.817173\n",
       "Name: covid_res, dtype: float64"
      ]
     },
     "execution_count": 14,
     "metadata": {},
     "output_type": "execute_result"
    }
   ],
   "source": [
    "trainset[\"covid_res\"].value_counts(normalize=True)*100"
   ]
  },
  {
   "cell_type": "code",
   "execution_count": 15,
   "metadata": {},
   "outputs": [
    {
     "data": {
      "text/plain": [
       "2    49.320956\n",
       "1    38.902763\n",
       "3    11.776282\n",
       "Name: covid_res, dtype: float64"
      ]
     },
     "execution_count": 15,
     "metadata": {},
     "output_type": "execute_result"
    }
   ],
   "source": [
    "testset[\"covid_res\"].value_counts(normalize=True)*100"
   ]
  },
  {
   "cell_type": "markdown",
   "metadata": {},
   "source": [
    "- **features engineering**"
   ]
  },
  {
   "cell_type": "markdown",
   "metadata": {},
   "source": [
    "   "
   ]
  },
  {
   "cell_type": "code",
   "execution_count": 16,
   "metadata": {},
   "outputs": [],
   "source": [
    "def feature_engineering (df):\n",
    "    df['patient_died']=df['date_died'].map({'9999-99-99':0})\n",
    "    df['patient_died']=df['patient_died'].fillna(1)\n",
    "    df = df[df[\"covid_res\"]!= 3]\n",
    "    df['pregnancy']= df['pregnancy'].fillna(2)\n",
    "    disease_columns= [\"diabetes\",\"copd\",\"asthma\",\"inmsupr\",\n",
    "                      \"hypertension\",\"cardiovascular\",\"obesity\",\"renal_chronic\"]\n",
    "    df[\"< 1 disease\"] = np.sum(covid_pp_df[disease_columns]== 1, axis= 1)>1\n",
    "    \n",
    "    return df"
   ]
  },
  {
   "cell_type": "markdown",
   "metadata": {},
   "source": [
    "- **features encoding**"
   ]
  },
  {
   "cell_type": "code",
   "execution_count": 17,
   "metadata": {},
   "outputs": [],
   "source": [
    "def encoding (df):\n",
    "    categorical_features =['sex', 'patient_type', 'intubed',\n",
    "                           'pneumonia', 'pregnancy', 'diabetes',\n",
    "                           'copd', 'asthma', 'inmsupr', 'hypertension', 'other_disease',\n",
    "                           'cardiovascular', 'obesity', 'renal_chronic', 'tobacco', 'contact_other_covid',\n",
    "                           'covid_res', 'icu','patient_died','< 1 disease']\n",
    "    df = pd.get_dummies(df, columns=categorical_features,drop_first=True)\n",
    "    return df"
   ]
  },
  {
   "cell_type": "markdown",
   "metadata": {},
   "source": [
    "- **features imputation**"
   ]
  },
  {
   "cell_type": "code",
   "execution_count": 18,
   "metadata": {},
   "outputs": [],
   "source": [
    "def imputation(df):\n",
    "    features_to_drop =['id','entry_date','date_symptoms','date_died']\n",
    "    df = df.drop(features_to_drop,axis=1)\n",
    "    \n",
    "    df = df.dropna(axis=0)\n",
    "    df = df.drop_duplicates(keep='first')\n",
    "    \n",
    "    #print(df)\n",
    "    return df"
   ]
  },
  {
   "cell_type": "markdown",
   "metadata": {},
   "source": [
    "- **target varialble smoting** "
   ]
  },
  {
   "cell_type": "code",
   "execution_count": 19,
   "metadata": {},
   "outputs": [],
   "source": [
    "smote = SMOTE()"
   ]
  },
  {
   "cell_type": "code",
   "execution_count": 20,
   "metadata": {},
   "outputs": [],
   "source": [
    "def smoting(X,y):\n",
    "    print(y.value_counts(normalize=True)*100)\n",
    "    print(\"X.shape:\",X.shape,\"y.shape:\",y.shape)\n",
    "    print(\"\\n -------------------- \\n\")\n",
    "    X, y =smote.fit_sample(X,y)\n",
    "    print(y.value_counts(normalize=True)*100)\n",
    "    print(\"X.shape:\",X.shape,\"y.shape:\",y.shape)\n",
    "    print(\"\\n -------------------- \\n\")\n",
    "    return X,y"
   ]
  },
  {
   "cell_type": "markdown",
   "metadata": {},
   "source": [
    "- **Pre-processing**"
   ]
  },
  {
   "cell_type": "code",
   "execution_count": 21,
   "metadata": {},
   "outputs": [],
   "source": [
    "def pre_processing (df):\n",
    "    df = feature_engineering(df)\n",
    "    df = encoding (df)\n",
    "    df = imputation(df)\n",
    "    X = df.drop(\"covid_res_2\",axis =1)\n",
    "    y = df[\"covid_res_2\"]\n",
    "   \n",
    "    print ('befor SMOTE:', Counter(y))\n",
    "    X_smote, y_smote = smoting(X,y)\n",
    "    print(\"\\n --XXXX------------------ \\n\")\n",
    "    print ('afetr SMOTE:', Counter(y_smote))\n",
    "    print(\"X_smote.shape:\",X_smote.shape,\"y_smote.shape:\",y_smote.shape)\n",
    "    print(\"\\n -------------------- \\n\")\n",
    "    #print(pd.DataFrame(X).head())\n",
    "    #print(\"\\n -------------------- \\n\")\n",
    "    #print(y.to_frame().head())\n",
    "    return X_smote, y_smote"
   ]
  },
  {
   "cell_type": "markdown",
   "metadata": {},
   "source": [
    "## 3.3 performance analysis feature engineering/ model's refrence prediction"
   ]
  },
  {
   "cell_type": "code",
   "execution_count": 22,
   "metadata": {},
   "outputs": [],
   "source": [
    "model_1 = make_pipeline(SelectKBest(f_classif,k=20),DecisionTreeClassifier(random_state=0))"
   ]
  },
  {
   "cell_type": "code",
   "execution_count": 23,
   "metadata": {},
   "outputs": [],
   "source": [
    "model = DecisionTreeClassifier(random_state=0)"
   ]
  },
  {
   "cell_type": "code",
   "execution_count": 24,
   "metadata": {},
   "outputs": [],
   "source": [
    "model_2 = make_pipeline(PolynomialFeatures(2), SelectKBest(f_classif,k=20),DecisionTreeClassifier(random_state=0))"
   ]
  },
  {
   "cell_type": "markdown",
   "metadata": {},
   "source": [
    "- **model metric evaluation**"
   ]
  },
  {
   "cell_type": "code",
   "execution_count": 25,
   "metadata": {},
   "outputs": [],
   "source": [
    "def evaluation(model):\n",
    "    model.fit(X_train, y_train)\n",
    "    y_pred = model.predict(X_test)\n",
    "    \n",
    "    print(confusion_matrix(y_test, y_pred))\n",
    "    print(classification_report(y_test, y_pred))\n",
    "    \n",
    "    N, train_score, val_score = learning_curve(model, X_train, y_train, cv= 4,scoring= 'f1',\n",
    "                                               train_sizes=np.linspace(0.1, 1, 10))\n",
    "    plt.figure(figsize=(12,8))\n",
    "    plt.plot(N, train_score.mean(axis=1), label= 'train score')\n",
    "    plt.plot(N, val_score.mean(axis=1), label= 'validation score')\n",
    "    plt.legend()\n",
    "    #plt.savefig('list_of_models = [RandomForest, AdaBoost, SVM, KNN] evalustion.png')"
   ]
  },
  {
   "cell_type": "code",
   "execution_count": 26,
   "metadata": {},
   "outputs": [
    {
     "name": "stderr",
     "output_type": "stream",
     "text": [
      "/home/mael/.pyenv/versions/3.7.6/envs/vivadata/lib/python3.7/site-packages/ipykernel_launcher.py:2: SettingWithCopyWarning: \n",
      "A value is trying to be set on a copy of a slice from a DataFrame.\n",
      "Try using .loc[row_indexer,col_indexer] = value instead\n",
      "\n",
      "See the caveats in the documentation: https://pandas.pydata.org/pandas-docs/stable/user_guide/indexing.html#returning-a-view-versus-a-copy\n",
      "  \n",
      "/home/mael/.pyenv/versions/3.7.6/envs/vivadata/lib/python3.7/site-packages/ipykernel_launcher.py:3: SettingWithCopyWarning: \n",
      "A value is trying to be set on a copy of a slice from a DataFrame.\n",
      "Try using .loc[row_indexer,col_indexer] = value instead\n",
      "\n",
      "See the caveats in the documentation: https://pandas.pydata.org/pandas-docs/stable/user_guide/indexing.html#returning-a-view-versus-a-copy\n",
      "  This is separate from the ipykernel package so we can avoid doing imports until\n",
      "/home/mael/.pyenv/versions/3.7.6/envs/vivadata/lib/python3.7/site-packages/ipykernel_launcher.py:5: SettingWithCopyWarning: \n",
      "A value is trying to be set on a copy of a slice from a DataFrame.\n",
      "Try using .loc[row_indexer,col_indexer] = value instead\n",
      "\n",
      "See the caveats in the documentation: https://pandas.pydata.org/pandas-docs/stable/user_guide/indexing.html#returning-a-view-versus-a-copy\n",
      "  \"\"\"\n",
      "/home/mael/.pyenv/versions/3.7.6/envs/vivadata/lib/python3.7/site-packages/ipykernel_launcher.py:8: SettingWithCopyWarning: \n",
      "A value is trying to be set on a copy of a slice from a DataFrame.\n",
      "Try using .loc[row_indexer,col_indexer] = value instead\n",
      "\n",
      "See the caveats in the documentation: https://pandas.pydata.org/pandas-docs/stable/user_guide/indexing.html#returning-a-view-versus-a-copy\n",
      "  \n"
     ]
    },
    {
     "name": "stdout",
     "output_type": "stream",
     "text": [
      "         age  sex_2  patient_type_2  intubed_2.0  pneumonia_2.0  pregnancy_2.0  diabetes_2.0  copd_2.0  asthma_2.0  inmsupr_2.0  hypertension_2.0  other_disease_2.0  cardiovascular_2.0  obesity_2.0  renal_chronic_2.0  tobacco_2.0  contact_other_covid_2.0  covid_res_2  icu_2.0  patient_died_1.0  < 1 disease_True\n",
      "249663  31.0      0               0            0              1              1             1         1           1            1                 1                  1                   1            1                  1            1                        0            1        0                 0                 0\n",
      "360395  51.0      1               0            0              1              1             1         1           1            1                 1                  1                   1            1                  1            1                        1            1        0                 0                 0\n",
      "275514  32.0      1               0            0              1              1             1         1           0            1                 1                  1                   1            1                  1            1                        1            1        0                 0                 0\n",
      "412213  38.0      1               0            0              1              1             1         1           1            1                 1                  1                   1            1                  1            1                        0            1        0                 0                 0\n",
      "185811  50.0      1               1            1              1              1             1         1           1            1                 1                  1                   1            1                  1            1                        0            0        1                 0                 0\n",
      "...      ...    ...             ...          ...            ...            ...           ...       ...         ...          ...               ...                ...                 ...          ...                ...          ...                      ...          ...      ...               ...               ...\n",
      "409514  38.0      0               0            0              1              1             1         1           0            1                 1                  1                   0            1                  1            1                        0            1        0                 0                 1\n",
      "61713   78.0      0               1            1              0              1             1         0           1            1                 1                  1                   1            1                  1            1                        1            0        1                 0                 0\n",
      "151078  43.0      1               1            1              0              1             0         0           1            1                 0                  0                   1            1                  1            1                        0            0        1                 0                 1\n",
      "441170  56.0      0               1            1              0              1             1         1           1            1                 1                  0                   1            0                  1            1                        1            1        1                 0                 0\n",
      "117952  55.0      0               1            1              1              1             0         1           1            1                 0                  1                   0            1                  1            1                        1            0        1                 0                 1\n",
      "\n",
      "[61958 rows x 21 columns]\n",
      "befor SMOTE: Counter({0: 32925, 1: 29033})\n",
      "0    53.140837\n",
      "1    46.859163\n",
      "Name: covid_res_2, dtype: float64\n",
      "X.shape: (61958, 20) y.shape: (61958,)\n",
      "\n",
      " -------------------- \n",
      "\n",
      "1    50.0\n",
      "0    50.0\n",
      "Name: covid_res_2, dtype: float64\n",
      "X.shape: (65850, 20) y.shape: (65850,)\n",
      "\n",
      " -------------------- \n",
      "\n",
      "\n",
      " --XXXX------------------ \n",
      "\n",
      "afetr SMOTE: Counter({1: 32925, 0: 32925})\n",
      "X_smote.shape: (65850, 20) y_smote.shape: (65850,)\n",
      "\n",
      " -------------------- \n",
      "\n",
      "         age  sex_2  patient_type_2  intubed_2.0  pneumonia_2.0  pregnancy_2.0  diabetes_2.0  copd_2.0  asthma_2.0  inmsupr_2.0  hypertension_2.0  other_disease_2.0  cardiovascular_2.0  obesity_2.0  renal_chronic_2.0  tobacco_2.0  contact_other_covid_2.0  icu_2.0  patient_died_1.0  < 1 disease_True\n",
      "249663  31.0      0               0            0              1              1             1         1           1            1                 1                  1                   1            1                  1            1                        0        0                 0                 0\n",
      "360395  51.0      1               0            0              1              1             1         1           1            1                 1                  1                   1            1                  1            1                        1        0                 0                 0\n",
      "275514  32.0      1               0            0              1              1             1         1           0            1                 1                  1                   1            1                  1            1                        1        0                 0                 0\n",
      "412213  38.0      1               0            0              1              1             1         1           1            1                 1                  1                   1            1                  1            1                        0        0                 0                 0\n",
      "185811  50.0      1               1            1              1              1             1         1           1            1                 1                  1                   1            1                  1            1                        0        1                 0                 0\n",
      "\n",
      " -------------------- \n",
      "\n",
      "        covid_res_2\n",
      "249663            1\n",
      "360395            1\n",
      "275514            1\n",
      "412213            1\n",
      "185811            0\n"
     ]
    }
   ],
   "source": [
    "X_train, y_train = pre_processing(trainset)"
   ]
  },
  {
   "cell_type": "code",
   "execution_count": 27,
   "metadata": {},
   "outputs": [
    {
     "name": "stderr",
     "output_type": "stream",
     "text": [
      "/home/mael/.pyenv/versions/3.7.6/envs/vivadata/lib/python3.7/site-packages/ipykernel_launcher.py:2: SettingWithCopyWarning: \n",
      "A value is trying to be set on a copy of a slice from a DataFrame.\n",
      "Try using .loc[row_indexer,col_indexer] = value instead\n",
      "\n",
      "See the caveats in the documentation: https://pandas.pydata.org/pandas-docs/stable/user_guide/indexing.html#returning-a-view-versus-a-copy\n",
      "  \n",
      "/home/mael/.pyenv/versions/3.7.6/envs/vivadata/lib/python3.7/site-packages/ipykernel_launcher.py:3: SettingWithCopyWarning: \n",
      "A value is trying to be set on a copy of a slice from a DataFrame.\n",
      "Try using .loc[row_indexer,col_indexer] = value instead\n",
      "\n",
      "See the caveats in the documentation: https://pandas.pydata.org/pandas-docs/stable/user_guide/indexing.html#returning-a-view-versus-a-copy\n",
      "  This is separate from the ipykernel package so we can avoid doing imports until\n",
      "/home/mael/.pyenv/versions/3.7.6/envs/vivadata/lib/python3.7/site-packages/ipykernel_launcher.py:5: SettingWithCopyWarning: \n",
      "A value is trying to be set on a copy of a slice from a DataFrame.\n",
      "Try using .loc[row_indexer,col_indexer] = value instead\n",
      "\n",
      "See the caveats in the documentation: https://pandas.pydata.org/pandas-docs/stable/user_guide/indexing.html#returning-a-view-versus-a-copy\n",
      "  \"\"\"\n",
      "/home/mael/.pyenv/versions/3.7.6/envs/vivadata/lib/python3.7/site-packages/ipykernel_launcher.py:8: SettingWithCopyWarning: \n",
      "A value is trying to be set on a copy of a slice from a DataFrame.\n",
      "Try using .loc[row_indexer,col_indexer] = value instead\n",
      "\n",
      "See the caveats in the documentation: https://pandas.pydata.org/pandas-docs/stable/user_guide/indexing.html#returning-a-view-versus-a-copy\n",
      "  \n"
     ]
    },
    {
     "name": "stdout",
     "output_type": "stream",
     "text": [
      "         age  sex_2  patient_type_2  intubed_2.0  pneumonia_2.0  pregnancy_2.0  diabetes_2.0  copd_2.0  asthma_2.0  inmsupr_2.0  hypertension_2.0  other_disease_2.0  cardiovascular_2.0  obesity_2.0  renal_chronic_2.0  tobacco_2.0  contact_other_covid_2.0  covid_res_2  icu_2.0  patient_died_1.0  < 1 disease_True\n",
      "217214  48.0      1               0            0              1              1             1         1           1            1                 1                  1                   1            0                  1            0                        0            0        0                 0                 0\n",
      "92274   45.0      1               0            0              1              1             1         1           1            1                 1                  1                   1            1                  1            1                        0            0        0                 0                 0\n",
      "441061  48.0      1               0            0              1              1             0         1           1            1                 1                  1                   1            0                  1            1                        0            1        0                 0                 1\n",
      "320787  62.0      1               1            1              1              1             1         1           1            1                 0                  1                   1            1                  1            1                        0            1        1                 0                 0\n",
      "496143  68.0      0               0            0              1              1             1         1           1            1                 0                  1                   1            1                  1            1                        0            1        0                 0                 0\n",
      "...      ...    ...             ...          ...            ...            ...           ...       ...         ...          ...               ...                ...                 ...          ...                ...          ...                      ...          ...      ...               ...               ...\n",
      "376038  50.0      0               0            0              1              1             0         1           1            0                 0                  1                   1            1                  1            0                        0            1        0                 0                 1\n",
      "135350  36.0      0               0            0              1              1             1         1           1            1                 1                  1                   0            1                  1            1                        0            0        0                 0                 0\n",
      "122663  34.0      1               1            0              0              1             1         1           1            0                 1                  0                   1            1                  1            1                        0            0        1                 0                 0\n",
      "14271   60.0      0               1            1              1              1             1         1           1            1                 0                  1                   1            0                  1            1                        0            0        1                 0                 1\n",
      "415367  67.0      0               1            1              0              1             1         1           1            1                 1                  1                   1            0                  1            0                        1            1        1                 0                 0\n",
      "\n",
      "[24569 rows x 21 columns]\n",
      "befor SMOTE: Counter({0: 13159, 1: 11410})\n",
      "0    53.559363\n",
      "1    46.440637\n",
      "Name: covid_res_2, dtype: float64\n",
      "X.shape: (24569, 20) y.shape: (24569,)\n",
      "\n",
      " -------------------- \n",
      "\n",
      "1    50.0\n",
      "0    50.0\n",
      "Name: covid_res_2, dtype: float64\n",
      "X.shape: (26318, 20) y.shape: (26318,)\n",
      "\n",
      " -------------------- \n",
      "\n",
      "\n",
      " --XXXX------------------ \n",
      "\n",
      "afetr SMOTE: Counter({0: 13159, 1: 13159})\n",
      "X_smote.shape: (26318, 20) y_smote.shape: (26318,)\n",
      "\n",
      " -------------------- \n",
      "\n",
      "         age  sex_2  patient_type_2  intubed_2.0  pneumonia_2.0  pregnancy_2.0  diabetes_2.0  copd_2.0  asthma_2.0  inmsupr_2.0  hypertension_2.0  other_disease_2.0  cardiovascular_2.0  obesity_2.0  renal_chronic_2.0  tobacco_2.0  contact_other_covid_2.0  icu_2.0  patient_died_1.0  < 1 disease_True\n",
      "217214  48.0      1               0            0              1              1             1         1           1            1                 1                  1                   1            0                  1            0                        0        0                 0                 0\n",
      "92274   45.0      1               0            0              1              1             1         1           1            1                 1                  1                   1            1                  1            1                        0        0                 0                 0\n",
      "441061  48.0      1               0            0              1              1             0         1           1            1                 1                  1                   1            0                  1            1                        0        0                 0                 1\n",
      "320787  62.0      1               1            1              1              1             1         1           1            1                 0                  1                   1            1                  1            1                        0        1                 0                 0\n",
      "496143  68.0      0               0            0              1              1             1         1           1            1                 0                  1                   1            1                  1            1                        0        0                 0                 0\n",
      "\n",
      " -------------------- \n",
      "\n",
      "        covid_res_2\n",
      "217214            0\n",
      "92274             0\n",
      "441061            1\n",
      "320787            1\n",
      "496143            1\n"
     ]
    }
   ],
   "source": [
    "X_test, y_test = pre_processing(testset)"
   ]
  },
  {
   "cell_type": "code",
   "execution_count": 28,
   "metadata": {
    "scrolled": true
   },
   "outputs": [
    {
     "name": "stdout",
     "output_type": "stream",
     "text": [
      "[[10229  2930]\n",
      " [ 9082  4077]]\n",
      "              precision    recall  f1-score   support\n",
      "\n",
      "           0       0.53      0.78      0.63     13159\n",
      "           1       0.58      0.31      0.40     13159\n",
      "\n",
      "    accuracy                           0.54     26318\n",
      "   macro avg       0.56      0.54      0.52     26318\n",
      "weighted avg       0.56      0.54      0.52     26318\n",
      "\n"
     ]
    },
    {
     "data": {
      "image/png": "[encoded data removed]",
      "text/plain": [
       "<Figure size 864x576 with 1 Axes>"
      ]
     },
     "metadata": {
      "needs_background": "light"
     },
     "output_type": "display_data"
    }
   ],
   "source": [
    "evaluation(model)"
   ]
  },
  {
   "cell_type": "code",
   "execution_count": 29,
   "metadata": {},
   "outputs": [
    {
     "name": "stderr",
     "output_type": "stream",
     "text": [
      "/home/mael/.pyenv/versions/3.7.6/envs/vivadata/lib/python3.7/site-packages/sklearn/feature_selection/_univariate_selection.py:115: UserWarning: Features [0] are constant.\n",
      "  UserWarning)\n",
      "/home/mael/.pyenv/versions/3.7.6/envs/vivadata/lib/python3.7/site-packages/sklearn/feature_selection/_univariate_selection.py:116: RuntimeWarning: invalid value encountered in true_divide\n",
      "  f = msb / msw\n"
     ]
    },
    {
     "name": "stdout",
     "output_type": "stream",
     "text": [
      "[[ 3191  9968]\n",
      " [ 1116 12043]]\n",
      "              precision    recall  f1-score   support\n",
      "\n",
      "           0       0.74      0.24      0.37     13159\n",
      "           1       0.55      0.92      0.68     13159\n",
      "\n",
      "    accuracy                           0.58     26318\n",
      "   macro avg       0.64      0.58      0.53     26318\n",
      "weighted avg       0.64      0.58      0.53     26318\n",
      "\n"
     ]
    },
    {
     "name": "stderr",
     "output_type": "stream",
     "text": [
      "/home/mael/.pyenv/versions/3.7.6/envs/vivadata/lib/python3.7/site-packages/sklearn/feature_selection/_univariate_selection.py:115: UserWarning: Features [0] are constant.\n",
      "  UserWarning)\n",
      "/home/mael/.pyenv/versions/3.7.6/envs/vivadata/lib/python3.7/site-packages/sklearn/feature_selection/_univariate_selection.py:116: RuntimeWarning: invalid value encountered in true_divide\n",
      "  f = msb / msw\n",
      "/home/mael/.pyenv/versions/3.7.6/envs/vivadata/lib/python3.7/site-packages/sklearn/feature_selection/_univariate_selection.py:115: UserWarning: Features [0] are constant.\n",
      "  UserWarning)\n",
      "/home/mael/.pyenv/versions/3.7.6/envs/vivadata/lib/python3.7/site-packages/sklearn/feature_selection/_univariate_selection.py:116: RuntimeWarning: invalid value encountered in true_divide\n",
      "  f = msb / msw\n",
      "/home/mael/.pyenv/versions/3.7.6/envs/vivadata/lib/python3.7/site-packages/sklearn/feature_selection/_univariate_selection.py:115: UserWarning: Features [0] are constant.\n",
      "  UserWarning)\n",
      "/home/mael/.pyenv/versions/3.7.6/envs/vivadata/lib/python3.7/site-packages/sklearn/feature_selection/_univariate_selection.py:116: RuntimeWarning: invalid value encountered in true_divide\n",
      "  f = msb / msw\n",
      "/home/mael/.pyenv/versions/3.7.6/envs/vivadata/lib/python3.7/site-packages/sklearn/feature_selection/_univariate_selection.py:115: UserWarning: Features [0] are constant.\n",
      "  UserWarning)\n",
      "/home/mael/.pyenv/versions/3.7.6/envs/vivadata/lib/python3.7/site-packages/sklearn/feature_selection/_univariate_selection.py:116: RuntimeWarning: invalid value encountered in true_divide\n",
      "  f = msb / msw\n",
      "/home/mael/.pyenv/versions/3.7.6/envs/vivadata/lib/python3.7/site-packages/sklearn/feature_selection/_univariate_selection.py:115: UserWarning: Features [0] are constant.\n",
      "  UserWarning)\n",
      "/home/mael/.pyenv/versions/3.7.6/envs/vivadata/lib/python3.7/site-packages/sklearn/feature_selection/_univariate_selection.py:116: RuntimeWarning: invalid value encountered in true_divide\n",
      "  f = msb / msw\n",
      "/home/mael/.pyenv/versions/3.7.6/envs/vivadata/lib/python3.7/site-packages/sklearn/feature_selection/_univariate_selection.py:115: UserWarning: Features [0] are constant.\n",
      "  UserWarning)\n",
      "/home/mael/.pyenv/versions/3.7.6/envs/vivadata/lib/python3.7/site-packages/sklearn/feature_selection/_univariate_selection.py:116: RuntimeWarning: invalid value encountered in true_divide\n",
      "  f = msb / msw\n",
      "/home/mael/.pyenv/versions/3.7.6/envs/vivadata/lib/python3.7/site-packages/sklearn/feature_selection/_univariate_selection.py:115: UserWarning: Features [0] are constant.\n",
      "  UserWarning)\n",
      "/home/mael/.pyenv/versions/3.7.6/envs/vivadata/lib/python3.7/site-packages/sklearn/feature_selection/_univariate_selection.py:116: RuntimeWarning: invalid value encountered in true_divide\n",
      "  f = msb / msw\n",
      "/home/mael/.pyenv/versions/3.7.6/envs/vivadata/lib/python3.7/site-packages/sklearn/feature_selection/_univariate_selection.py:115: UserWarning: Features [0] are constant.\n",
      "  UserWarning)\n",
      "/home/mael/.pyenv/versions/3.7.6/envs/vivadata/lib/python3.7/site-packages/sklearn/feature_selection/_univariate_selection.py:116: RuntimeWarning: invalid value encountered in true_divide\n",
      "  f = msb / msw\n",
      "/home/mael/.pyenv/versions/3.7.6/envs/vivadata/lib/python3.7/site-packages/sklearn/feature_selection/_univariate_selection.py:115: UserWarning: Features [0] are constant.\n",
      "  UserWarning)\n",
      "/home/mael/.pyenv/versions/3.7.6/envs/vivadata/lib/python3.7/site-packages/sklearn/feature_selection/_univariate_selection.py:116: RuntimeWarning: invalid value encountered in true_divide\n",
      "  f = msb / msw\n",
      "/home/mael/.pyenv/versions/3.7.6/envs/vivadata/lib/python3.7/site-packages/sklearn/feature_selection/_univariate_selection.py:115: UserWarning: Features [0] are constant.\n",
      "  UserWarning)\n",
      "/home/mael/.pyenv/versions/3.7.6/envs/vivadata/lib/python3.7/site-packages/sklearn/feature_selection/_univariate_selection.py:116: RuntimeWarning: invalid value encountered in true_divide\n",
      "  f = msb / msw\n",
      "/home/mael/.pyenv/versions/3.7.6/envs/vivadata/lib/python3.7/site-packages/sklearn/feature_selection/_univariate_selection.py:115: UserWarning: Features [0] are constant.\n",
      "  UserWarning)\n",
      "/home/mael/.pyenv/versions/3.7.6/envs/vivadata/lib/python3.7/site-packages/sklearn/feature_selection/_univariate_selection.py:116: RuntimeWarning: invalid value encountered in true_divide\n",
      "  f = msb / msw\n",
      "/home/mael/.pyenv/versions/3.7.6/envs/vivadata/lib/python3.7/site-packages/sklearn/feature_selection/_univariate_selection.py:115: UserWarning: Features [0] are constant.\n",
      "  UserWarning)\n",
      "/home/mael/.pyenv/versions/3.7.6/envs/vivadata/lib/python3.7/site-packages/sklearn/feature_selection/_univariate_selection.py:116: RuntimeWarning: invalid value encountered in true_divide\n",
      "  f = msb / msw\n",
      "/home/mael/.pyenv/versions/3.7.6/envs/vivadata/lib/python3.7/site-packages/sklearn/feature_selection/_univariate_selection.py:115: UserWarning: Features [0] are constant.\n",
      "  UserWarning)\n",
      "/home/mael/.pyenv/versions/3.7.6/envs/vivadata/lib/python3.7/site-packages/sklearn/feature_selection/_univariate_selection.py:116: RuntimeWarning: invalid value encountered in true_divide\n",
      "  f = msb / msw\n",
      "/home/mael/.pyenv/versions/3.7.6/envs/vivadata/lib/python3.7/site-packages/sklearn/feature_selection/_univariate_selection.py:115: UserWarning: Features [0] are constant.\n",
      "  UserWarning)\n",
      "/home/mael/.pyenv/versions/3.7.6/envs/vivadata/lib/python3.7/site-packages/sklearn/feature_selection/_univariate_selection.py:116: RuntimeWarning: invalid value encountered in true_divide\n",
      "  f = msb / msw\n",
      "/home/mael/.pyenv/versions/3.7.6/envs/vivadata/lib/python3.7/site-packages/sklearn/feature_selection/_univariate_selection.py:115: UserWarning: Features [0] are constant.\n",
      "  UserWarning)\n",
      "/home/mael/.pyenv/versions/3.7.6/envs/vivadata/lib/python3.7/site-packages/sklearn/feature_selection/_univariate_selection.py:116: RuntimeWarning: invalid value encountered in true_divide\n",
      "  f = msb / msw\n",
      "/home/mael/.pyenv/versions/3.7.6/envs/vivadata/lib/python3.7/site-packages/sklearn/feature_selection/_univariate_selection.py:115: UserWarning: Features [0] are constant.\n",
      "  UserWarning)\n",
      "/home/mael/.pyenv/versions/3.7.6/envs/vivadata/lib/python3.7/site-packages/sklearn/feature_selection/_univariate_selection.py:116: RuntimeWarning: invalid value encountered in true_divide\n",
      "  f = msb / msw\n",
      "/home/mael/.pyenv/versions/3.7.6/envs/vivadata/lib/python3.7/site-packages/sklearn/feature_selection/_univariate_selection.py:115: UserWarning: Features [0] are constant.\n",
      "  UserWarning)\n",
      "/home/mael/.pyenv/versions/3.7.6/envs/vivadata/lib/python3.7/site-packages/sklearn/feature_selection/_univariate_selection.py:116: RuntimeWarning: invalid value encountered in true_divide\n",
      "  f = msb / msw\n",
      "/home/mael/.pyenv/versions/3.7.6/envs/vivadata/lib/python3.7/site-packages/sklearn/feature_selection/_univariate_selection.py:115: UserWarning: Features [0] are constant.\n",
      "  UserWarning)\n",
      "/home/mael/.pyenv/versions/3.7.6/envs/vivadata/lib/python3.7/site-packages/sklearn/feature_selection/_univariate_selection.py:116: RuntimeWarning: invalid value encountered in true_divide\n",
      "  f = msb / msw\n",
      "/home/mael/.pyenv/versions/3.7.6/envs/vivadata/lib/python3.7/site-packages/sklearn/feature_selection/_univariate_selection.py:115: UserWarning: Features [0] are constant.\n",
      "  UserWarning)\n",
      "/home/mael/.pyenv/versions/3.7.6/envs/vivadata/lib/python3.7/site-packages/sklearn/feature_selection/_univariate_selection.py:116: RuntimeWarning: invalid value encountered in true_divide\n",
      "  f = msb / msw\n",
      "/home/mael/.pyenv/versions/3.7.6/envs/vivadata/lib/python3.7/site-packages/sklearn/feature_selection/_univariate_selection.py:115: UserWarning: Features [0] are constant.\n",
      "  UserWarning)\n",
      "/home/mael/.pyenv/versions/3.7.6/envs/vivadata/lib/python3.7/site-packages/sklearn/feature_selection/_univariate_selection.py:116: RuntimeWarning: invalid value encountered in true_divide\n",
      "  f = msb / msw\n",
      "/home/mael/.pyenv/versions/3.7.6/envs/vivadata/lib/python3.7/site-packages/sklearn/feature_selection/_univariate_selection.py:115: UserWarning: Features [0] are constant.\n",
      "  UserWarning)\n",
      "/home/mael/.pyenv/versions/3.7.6/envs/vivadata/lib/python3.7/site-packages/sklearn/feature_selection/_univariate_selection.py:116: RuntimeWarning: invalid value encountered in true_divide\n",
      "  f = msb / msw\n",
      "/home/mael/.pyenv/versions/3.7.6/envs/vivadata/lib/python3.7/site-packages/sklearn/feature_selection/_univariate_selection.py:115: UserWarning: Features [0] are constant.\n",
      "  UserWarning)\n",
      "/home/mael/.pyenv/versions/3.7.6/envs/vivadata/lib/python3.7/site-packages/sklearn/feature_selection/_univariate_selection.py:116: RuntimeWarning: invalid value encountered in true_divide\n",
      "  f = msb / msw\n"
     ]
    },
    {
     "name": "stderr",
     "output_type": "stream",
     "text": [
      "/home/mael/.pyenv/versions/3.7.6/envs/vivadata/lib/python3.7/site-packages/sklearn/feature_selection/_univariate_selection.py:115: UserWarning: Features [0] are constant.\n",
      "  UserWarning)\n",
      "/home/mael/.pyenv/versions/3.7.6/envs/vivadata/lib/python3.7/site-packages/sklearn/feature_selection/_univariate_selection.py:116: RuntimeWarning: invalid value encountered in true_divide\n",
      "  f = msb / msw\n",
      "/home/mael/.pyenv/versions/3.7.6/envs/vivadata/lib/python3.7/site-packages/sklearn/feature_selection/_univariate_selection.py:115: UserWarning: Features [0] are constant.\n",
      "  UserWarning)\n",
      "/home/mael/.pyenv/versions/3.7.6/envs/vivadata/lib/python3.7/site-packages/sklearn/feature_selection/_univariate_selection.py:116: RuntimeWarning: invalid value encountered in true_divide\n",
      "  f = msb / msw\n",
      "/home/mael/.pyenv/versions/3.7.6/envs/vivadata/lib/python3.7/site-packages/sklearn/feature_selection/_univariate_selection.py:115: UserWarning: Features [0] are constant.\n",
      "  UserWarning)\n",
      "/home/mael/.pyenv/versions/3.7.6/envs/vivadata/lib/python3.7/site-packages/sklearn/feature_selection/_univariate_selection.py:116: RuntimeWarning: invalid value encountered in true_divide\n",
      "  f = msb / msw\n",
      "/home/mael/.pyenv/versions/3.7.6/envs/vivadata/lib/python3.7/site-packages/sklearn/feature_selection/_univariate_selection.py:115: UserWarning: Features [0] are constant.\n",
      "  UserWarning)\n",
      "/home/mael/.pyenv/versions/3.7.6/envs/vivadata/lib/python3.7/site-packages/sklearn/feature_selection/_univariate_selection.py:116: RuntimeWarning: invalid value encountered in true_divide\n",
      "  f = msb / msw\n",
      "/home/mael/.pyenv/versions/3.7.6/envs/vivadata/lib/python3.7/site-packages/sklearn/feature_selection/_univariate_selection.py:115: UserWarning: Features [0] are constant.\n",
      "  UserWarning)\n",
      "/home/mael/.pyenv/versions/3.7.6/envs/vivadata/lib/python3.7/site-packages/sklearn/feature_selection/_univariate_selection.py:116: RuntimeWarning: invalid value encountered in true_divide\n",
      "  f = msb / msw\n",
      "/home/mael/.pyenv/versions/3.7.6/envs/vivadata/lib/python3.7/site-packages/sklearn/feature_selection/_univariate_selection.py:115: UserWarning: Features [0] are constant.\n",
      "  UserWarning)\n",
      "/home/mael/.pyenv/versions/3.7.6/envs/vivadata/lib/python3.7/site-packages/sklearn/feature_selection/_univariate_selection.py:116: RuntimeWarning: invalid value encountered in true_divide\n",
      "  f = msb / msw\n",
      "/home/mael/.pyenv/versions/3.7.6/envs/vivadata/lib/python3.7/site-packages/sklearn/feature_selection/_univariate_selection.py:115: UserWarning: Features [0] are constant.\n",
      "  UserWarning)\n",
      "/home/mael/.pyenv/versions/3.7.6/envs/vivadata/lib/python3.7/site-packages/sklearn/feature_selection/_univariate_selection.py:116: RuntimeWarning: invalid value encountered in true_divide\n",
      "  f = msb / msw\n",
      "/home/mael/.pyenv/versions/3.7.6/envs/vivadata/lib/python3.7/site-packages/sklearn/feature_selection/_univariate_selection.py:115: UserWarning: Features [0] are constant.\n",
      "  UserWarning)\n",
      "/home/mael/.pyenv/versions/3.7.6/envs/vivadata/lib/python3.7/site-packages/sklearn/feature_selection/_univariate_selection.py:116: RuntimeWarning: invalid value encountered in true_divide\n",
      "  f = msb / msw\n",
      "/home/mael/.pyenv/versions/3.7.6/envs/vivadata/lib/python3.7/site-packages/sklearn/feature_selection/_univariate_selection.py:115: UserWarning: Features [0] are constant.\n",
      "  UserWarning)\n",
      "/home/mael/.pyenv/versions/3.7.6/envs/vivadata/lib/python3.7/site-packages/sklearn/feature_selection/_univariate_selection.py:116: RuntimeWarning: invalid value encountered in true_divide\n",
      "  f = msb / msw\n",
      "/home/mael/.pyenv/versions/3.7.6/envs/vivadata/lib/python3.7/site-packages/sklearn/feature_selection/_univariate_selection.py:115: UserWarning: Features [0] are constant.\n",
      "  UserWarning)\n",
      "/home/mael/.pyenv/versions/3.7.6/envs/vivadata/lib/python3.7/site-packages/sklearn/feature_selection/_univariate_selection.py:116: RuntimeWarning: invalid value encountered in true_divide\n",
      "  f = msb / msw\n",
      "/home/mael/.pyenv/versions/3.7.6/envs/vivadata/lib/python3.7/site-packages/sklearn/feature_selection/_univariate_selection.py:115: UserWarning: Features [0] are constant.\n",
      "  UserWarning)\n",
      "/home/mael/.pyenv/versions/3.7.6/envs/vivadata/lib/python3.7/site-packages/sklearn/feature_selection/_univariate_selection.py:116: RuntimeWarning: invalid value encountered in true_divide\n",
      "  f = msb / msw\n",
      "/home/mael/.pyenv/versions/3.7.6/envs/vivadata/lib/python3.7/site-packages/sklearn/feature_selection/_univariate_selection.py:115: UserWarning: Features [0] are constant.\n",
      "  UserWarning)\n",
      "/home/mael/.pyenv/versions/3.7.6/envs/vivadata/lib/python3.7/site-packages/sklearn/feature_selection/_univariate_selection.py:116: RuntimeWarning: invalid value encountered in true_divide\n",
      "  f = msb / msw\n",
      "/home/mael/.pyenv/versions/3.7.6/envs/vivadata/lib/python3.7/site-packages/sklearn/feature_selection/_univariate_selection.py:115: UserWarning: Features [0] are constant.\n",
      "  UserWarning)\n",
      "/home/mael/.pyenv/versions/3.7.6/envs/vivadata/lib/python3.7/site-packages/sklearn/feature_selection/_univariate_selection.py:116: RuntimeWarning: invalid value encountered in true_divide\n",
      "  f = msb / msw\n",
      "/home/mael/.pyenv/versions/3.7.6/envs/vivadata/lib/python3.7/site-packages/sklearn/feature_selection/_univariate_selection.py:115: UserWarning: Features [0] are constant.\n",
      "  UserWarning)\n",
      "/home/mael/.pyenv/versions/3.7.6/envs/vivadata/lib/python3.7/site-packages/sklearn/feature_selection/_univariate_selection.py:116: RuntimeWarning: invalid value encountered in true_divide\n",
      "  f = msb / msw\n",
      "/home/mael/.pyenv/versions/3.7.6/envs/vivadata/lib/python3.7/site-packages/sklearn/feature_selection/_univariate_selection.py:115: UserWarning: Features [0] are constant.\n",
      "  UserWarning)\n",
      "/home/mael/.pyenv/versions/3.7.6/envs/vivadata/lib/python3.7/site-packages/sklearn/feature_selection/_univariate_selection.py:116: RuntimeWarning: invalid value encountered in true_divide\n",
      "  f = msb / msw\n",
      "/home/mael/.pyenv/versions/3.7.6/envs/vivadata/lib/python3.7/site-packages/sklearn/feature_selection/_univariate_selection.py:115: UserWarning: Features [0] are constant.\n",
      "  UserWarning)\n",
      "/home/mael/.pyenv/versions/3.7.6/envs/vivadata/lib/python3.7/site-packages/sklearn/feature_selection/_univariate_selection.py:116: RuntimeWarning: invalid value encountered in true_divide\n",
      "  f = msb / msw\n",
      "/home/mael/.pyenv/versions/3.7.6/envs/vivadata/lib/python3.7/site-packages/sklearn/feature_selection/_univariate_selection.py:115: UserWarning: Features [0] are constant.\n",
      "  UserWarning)\n",
      "/home/mael/.pyenv/versions/3.7.6/envs/vivadata/lib/python3.7/site-packages/sklearn/feature_selection/_univariate_selection.py:116: RuntimeWarning: invalid value encountered in true_divide\n",
      "  f = msb / msw\n",
      "/home/mael/.pyenv/versions/3.7.6/envs/vivadata/lib/python3.7/site-packages/sklearn/feature_selection/_univariate_selection.py:115: UserWarning: Features [0] are constant.\n",
      "  UserWarning)\n",
      "/home/mael/.pyenv/versions/3.7.6/envs/vivadata/lib/python3.7/site-packages/sklearn/feature_selection/_univariate_selection.py:116: RuntimeWarning: invalid value encountered in true_divide\n",
      "  f = msb / msw\n"
     ]
    },
    {
     "data": {
      "image/png": "[encoded data removed]",
      "text/plain": [
       "<Figure size 864x576 with 1 Axes>"
      ]
     },
     "metadata": {
      "needs_background": "light"
     },
     "output_type": "display_data"
    }
   ],
   "source": [
    "evaluation(model_1)"
   ]
  },
  {
   "cell_type": "code",
   "execution_count": 30,
   "metadata": {},
   "outputs": [
    {
     "name": "stdout",
     "output_type": "stream",
     "text": [
      "[[10229  2930]\n",
      " [ 9082  4077]]\n",
      "              precision    recall  f1-score   support\n",
      "\n",
      "           0       0.53      0.78      0.63     13159\n",
      "           1       0.58      0.31      0.40     13159\n",
      "\n",
      "    accuracy                           0.54     26318\n",
      "   macro avg       0.56      0.54      0.52     26318\n",
      "weighted avg       0.56      0.54      0.52     26318\n",
      "\n"
     ]
    },
    {
     "data": {
      "image/png": "[encoded data removed]",
      "text/plain": [
       "<Figure size 864x576 with 1 Axes>"
      ]
     },
     "metadata": {
      "needs_background": "light"
     },
     "output_type": "display_data"
    }
   ],
   "source": [
    "evaluation(model_2)"
   ]
  },
  {
   "cell_type": "markdown",
   "metadata": {},
   "source": [
    "- **Model features importances**"
   ]
  },
  {
   "cell_type": "code",
   "execution_count": 31,
   "metadata": {},
   "outputs": [
    {
     "data": {
      "text/html": [
       "<div>\n",
       "<style scoped>\n",
       "    .dataframe tbody tr th:only-of-type {\n",
       "        vertical-align: middle;\n",
       "    }\n",
       "\n",
       "    .dataframe tbody tr th {\n",
       "        vertical-align: top;\n",
       "    }\n",
       "\n",
       "    .dataframe thead th {\n",
       "        text-align: right;\n",
       "    }\n",
       "</style>\n",
       "<table border=\"1\" class=\"dataframe\">\n",
       "  <thead>\n",
       "    <tr style=\"text-align: right;\">\n",
       "      <th></th>\n",
       "      <th>0</th>\n",
       "    </tr>\n",
       "  </thead>\n",
       "  <tbody>\n",
       "    <tr>\n",
       "      <th>age</th>\n",
       "      <td>0.431112</td>\n",
       "    </tr>\n",
       "    <tr>\n",
       "      <th>sex_2</th>\n",
       "      <td>0.056574</td>\n",
       "    </tr>\n",
       "    <tr>\n",
       "      <th>patient_type_2</th>\n",
       "      <td>0.012551</td>\n",
       "    </tr>\n",
       "    <tr>\n",
       "      <th>intubed_2.0</th>\n",
       "      <td>0.019988</td>\n",
       "    </tr>\n",
       "    <tr>\n",
       "      <th>pneumonia_2.0</th>\n",
       "      <td>0.012124</td>\n",
       "    </tr>\n",
       "    <tr>\n",
       "      <th>pregnancy_2.0</th>\n",
       "      <td>0.005963</td>\n",
       "    </tr>\n",
       "    <tr>\n",
       "      <th>diabetes_2.0</th>\n",
       "      <td>0.047757</td>\n",
       "    </tr>\n",
       "    <tr>\n",
       "      <th>copd_2.0</th>\n",
       "      <td>0.019902</td>\n",
       "    </tr>\n",
       "    <tr>\n",
       "      <th>asthma_2.0</th>\n",
       "      <td>0.016342</td>\n",
       "    </tr>\n",
       "    <tr>\n",
       "      <th>inmsupr_2.0</th>\n",
       "      <td>0.012959</td>\n",
       "    </tr>\n",
       "    <tr>\n",
       "      <th>hypertension_2.0</th>\n",
       "      <td>0.046629</td>\n",
       "    </tr>\n",
       "    <tr>\n",
       "      <th>other_disease_2.0</th>\n",
       "      <td>0.022328</td>\n",
       "    </tr>\n",
       "    <tr>\n",
       "      <th>cardiovascular_2.0</th>\n",
       "      <td>0.023063</td>\n",
       "    </tr>\n",
       "    <tr>\n",
       "      <th>obesity_2.0</th>\n",
       "      <td>0.034039</td>\n",
       "    </tr>\n",
       "    <tr>\n",
       "      <th>renal_chronic_2.0</th>\n",
       "      <td>0.020347</td>\n",
       "    </tr>\n",
       "    <tr>\n",
       "      <th>tobacco_2.0</th>\n",
       "      <td>0.025946</td>\n",
       "    </tr>\n",
       "    <tr>\n",
       "      <th>contact_other_covid_2.0</th>\n",
       "      <td>0.059931</td>\n",
       "    </tr>\n",
       "    <tr>\n",
       "      <th>icu_2.0</th>\n",
       "      <td>0.026651</td>\n",
       "    </tr>\n",
       "    <tr>\n",
       "      <th>patient_died_1.0</th>\n",
       "      <td>0.079982</td>\n",
       "    </tr>\n",
       "    <tr>\n",
       "      <th>&lt; 1 disease_True</th>\n",
       "      <td>0.025809</td>\n",
       "    </tr>\n",
       "  </tbody>\n",
       "</table>\n",
       "</div>"
      ],
      "text/plain": [
       "                                0\n",
       "age                      0.431112\n",
       "sex_2                    0.056574\n",
       "patient_type_2           0.012551\n",
       "intubed_2.0              0.019988\n",
       "pneumonia_2.0            0.012124\n",
       "pregnancy_2.0            0.005963\n",
       "diabetes_2.0             0.047757\n",
       "copd_2.0                 0.019902\n",
       "asthma_2.0               0.016342\n",
       "inmsupr_2.0              0.012959\n",
       "hypertension_2.0         0.046629\n",
       "other_disease_2.0        0.022328\n",
       "cardiovascular_2.0       0.023063\n",
       "obesity_2.0              0.034039\n",
       "renal_chronic_2.0        0.020347\n",
       "tobacco_2.0              0.025946\n",
       "contact_other_covid_2.0  0.059931\n",
       "icu_2.0                  0.026651\n",
       "patient_died_1.0         0.079982\n",
       "< 1 disease_True         0.025809"
      ]
     },
     "execution_count": 31,
     "metadata": {},
     "output_type": "execute_result"
    }
   ],
   "source": [
    "pd.DataFrame(model.feature_importances_, index=X_train.columns)"
   ]
  },
  {
   "cell_type": "code",
   "execution_count": 32,
   "metadata": {},
   "outputs": [
    {
     "data": {
      "image/png": "[encoded data removed]",
      "text/plain": [
       "<Figure size 864x576 with 1 Axes>"
      ]
     },
     "metadata": {
      "needs_background": "light"
     },
     "output_type": "display_data"
    }
   ],
   "source": [
    "pd.DataFrame(model.feature_importances_, index=X_train.columns).plot.bar(figsize=(12,8))\n",
    "plt.savefig('raw covid model decision tree feature_importances.png' .png')"
   ]
  },
  {
   "cell_type": "markdown",
   "metadata": {},
   "source": [
    "## 4 Modelisation Raw dataset \"covid_pp_df\"\n",
    "\n",
    "**objective:** \n",
    "\n",
    "- establish a stategy to select the best classification model\n",
    "- modelisation hyperparameters and regularisation tunning \n"
   ]
  },
  {
   "cell_type": "markdown",
   "metadata": {},
   "source": [
    "- Criteria 1: dataset shape (566602, 23), X_train shpae (65850, 20), X_test shape (26318, 20)\n",
    "    - the dataset is less than 100000\n",
    "- Criteria 2 Parametric/Non parametric models\n",
    "    - in our case, we are going to use Non parametrics model:\n",
    "        - Support Vector Machines\n",
    "        - Decision trees\n",
    "        - Random Forest\n",
    "        - K-Nearest Neighbours\n",
    "- Criteria 3 Variable quatitatives/categorical\n",
    "    - due to all our varibles are categorical it will probably more suitable to use Decision trees models\n"
   ]
  },
  {
   "cell_type": "markdown",
   "metadata": {},
   "source": [
    "## 4.1 Raw dataset \"covid_pp_df\" model selection"
   ]
  },
  {
   "cell_type": "code",
   "execution_count": 33,
   "metadata": {},
   "outputs": [],
   "source": [
    "# preprocessing sub-pipeline\n",
    "preprocessor = make_pipeline(PolynomialFeatures(2, include_bias=False), \n",
    "                             SelectKBest(f_classif,k=20))"
   ]
  },
  {
   "cell_type": "code",
   "execution_count": 34,
   "metadata": {},
   "outputs": [],
   "source": [
    "#models pipelines\n",
    "DecisionTree = make_pipeline(preprocessor,DecisionTreeClassifier(random_state=0))\n",
    "RandomForest = make_pipeline(preprocessor, RandomForestClassifier(random_state=0))\n",
    "AdaBoost = make_pipeline(preprocessor, AdaBoostClassifier(random_state=0))\n",
    "SVM = make_pipeline(preprocessor,StandardScaler(), SVC(random_state=0))\n",
    "KNN = make_pipeline(preprocessor,StandardScaler(), KNeighborsClassifier())"
   ]
  },
  {
   "cell_type": "code",
   "execution_count": 35,
   "metadata": {},
   "outputs": [],
   "source": [
    "# model dictionary\n",
    "dict_of_models = {'DecisionTree':DecisionTree,\n",
    "                  'RandomForest': RandomForest,\n",
    "                  'AdaBoost':AdaBoost,\n",
    "                  'KNN':KNN\n",
    "                 }"
   ]
  },
  {
   "cell_type": "code",
   "execution_count": 36,
   "metadata": {},
   "outputs": [
    {
     "name": "stdout",
     "output_type": "stream",
     "text": [
      "DecisionTree\n",
      "[[ 3208  9951]\n",
      " [ 1111 12048]]\n",
      "              precision    recall  f1-score   support\n",
      "\n",
      "           0       0.74      0.24      0.37     13159\n",
      "           1       0.55      0.92      0.69     13159\n",
      "\n",
      "    accuracy                           0.58     26318\n",
      "   macro avg       0.65      0.58      0.53     26318\n",
      "weighted avg       0.65      0.58      0.53     26318\n",
      "\n",
      "RandomForest\n",
      "[[ 3070 10089]\n",
      " [ 1012 12147]]\n",
      "              precision    recall  f1-score   support\n",
      "\n",
      "           0       0.75      0.23      0.36     13159\n",
      "           1       0.55      0.92      0.69     13159\n",
      "\n",
      "    accuracy                           0.58     26318\n",
      "   macro avg       0.65      0.58      0.52     26318\n",
      "weighted avg       0.65      0.58      0.52     26318\n",
      "\n",
      "AdaBoost\n",
      "[[ 3733  9426]\n",
      " [ 1327 11832]]\n",
      "              precision    recall  f1-score   support\n",
      "\n",
      "           0       0.74      0.28      0.41     13159\n",
      "           1       0.56      0.90      0.69     13159\n",
      "\n",
      "    accuracy                           0.59     26318\n",
      "   macro avg       0.65      0.59      0.55     26318\n",
      "weighted avg       0.65      0.59      0.55     26318\n",
      "\n",
      "KNN\n",
      "[[ 3207  9952]\n",
      " [ 1055 12104]]\n",
      "              precision    recall  f1-score   support\n",
      "\n",
      "           0       0.75      0.24      0.37     13159\n",
      "           1       0.55      0.92      0.69     13159\n",
      "\n",
      "    accuracy                           0.58     26318\n",
      "   macro avg       0.65      0.58      0.53     26318\n",
      "weighted avg       0.65      0.58      0.53     26318\n",
      "\n"
     ]
    },
    {
     "data": {
      "image/png": "[encoded data removed]",
      "text/plain": [
       "<Figure size 864x576 with 1 Axes>"
      ]
     },
     "metadata": {
      "needs_background": "light"
     },
     "output_type": "display_data"
    },
    {
     "data": {
      "image/png": "[encoded data removed]",
      "text/plain": [
       "<Figure size 864x576 with 1 Axes>"
      ]
     },
     "metadata": {
      "needs_background": "light"
     },
     "output_type": "display_data"
    },
    {
     "data": {
      "image/png": "[encoded data removed]",
      "text/plain": [
       "<Figure size 864x576 with 1 Axes>"
      ]
     },
     "metadata": {
      "needs_background": "light"
     },
     "output_type": "display_data"
    },
    {
     "data": {
      "image/png": "[encoded data removed]",
      "text/plain": [
       "<Figure size 864x576 with 1 Axes>"
      ]
     },
     "metadata": {
      "needs_background": "light"
     },
     "output_type": "display_data"
    }
   ],
   "source": [
    "# models loop execution\n",
    "for name, model in dict_of_models.items():\n",
    "    print(name)\n",
    "    evaluation(model)"
   ]
  },
  {
   "cell_type": "code",
   "execution_count": 36,
   "metadata": {},
   "outputs": [],
   "source": [
    "# preprocessing sub-pipeline\n",
    "preprocessor_2 = make_pipeline(SelectKBest(f_classif,k=20))"
   ]
  },
  {
   "cell_type": "code",
   "execution_count": 37,
   "metadata": {},
   "outputs": [],
   "source": [
    "#models pipelines\n",
    "DecisionTree_2 = make_pipeline(preprocessor_2,DecisionTreeClassifier(random_state=0))\n",
    "RandomForest_2 = make_pipeline(preprocessor_2, RandomForestClassifier(random_state=0))\n",
    "AdaBoost_2 = make_pipeline(preprocessor_2, AdaBoostClassifier(random_state=0))\n",
    "SVM_2 = make_pipeline(preprocessor_2,StandardScaler(), SVC(random_state=0))\n",
    "KNN_2 = make_pipeline(preprocessor_2,StandardScaler(), KNeighborsClassifier())"
   ]
  },
  {
   "cell_type": "code",
   "execution_count": 38,
   "metadata": {},
   "outputs": [],
   "source": [
    "# model dictionary\n",
    "dict_of_models_2 = {'DecisionTree_2':DecisionTree_2,\n",
    "                  'RandomForest_2': RandomForest_2,\n",
    "                  'AdaBoost_2':AdaBoost_2,\n",
    "                  'KNN_2':KNN_2\n",
    "                 }"
   ]
  },
  {
   "cell_type": "code",
   "execution_count": 40,
   "metadata": {},
   "outputs": [
    {
     "name": "stdout",
     "output_type": "stream",
     "text": [
      "DecisionTree_2\n",
      "[[10252  2907]\n",
      " [ 8970  4189]]\n",
      "              precision    recall  f1-score   support\n",
      "\n",
      "           0       0.53      0.78      0.63     13159\n",
      "           1       0.59      0.32      0.41     13159\n",
      "\n",
      "    accuracy                           0.55     26318\n",
      "   macro avg       0.56      0.55      0.52     26318\n",
      "weighted avg       0.56      0.55      0.52     26318\n",
      "\n",
      "RandomForest_2\n",
      "[[7262 5897]\n",
      " [5517 7642]]\n",
      "              precision    recall  f1-score   support\n",
      "\n",
      "           0       0.57      0.55      0.56     13159\n",
      "           1       0.56      0.58      0.57     13159\n",
      "\n",
      "    accuracy                           0.57     26318\n",
      "   macro avg       0.57      0.57      0.57     26318\n",
      "weighted avg       0.57      0.57      0.57     26318\n",
      "\n",
      "AdaBoost_2\n",
      "[[6781 6378]\n",
      " [3829 9330]]\n",
      "              precision    recall  f1-score   support\n",
      "\n",
      "           0       0.64      0.52      0.57     13159\n",
      "           1       0.59      0.71      0.65     13159\n",
      "\n",
      "    accuracy                           0.61     26318\n",
      "   macro avg       0.62      0.61      0.61     26318\n",
      "weighted avg       0.62      0.61      0.61     26318\n",
      "\n",
      "KNN_2\n",
      "[[7562 5597]\n",
      " [5335 7824]]\n",
      "              precision    recall  f1-score   support\n",
      "\n",
      "           0       0.59      0.57      0.58     13159\n",
      "           1       0.58      0.59      0.59     13159\n",
      "\n",
      "    accuracy                           0.58     26318\n",
      "   macro avg       0.58      0.58      0.58     26318\n",
      "weighted avg       0.58      0.58      0.58     26318\n",
      "\n"
     ]
    },
    {
     "data": {
      "image/png": "[encoded data removed]",
      "text/plain": [
       "<Figure size 864x576 with 1 Axes>"
      ]
     },
     "metadata": {
      "needs_background": "light"
     },
     "output_type": "display_data"
    },
    {
     "data": {
      "image/png": "[encoded data removed]",
      "text/plain": [
       "<Figure size 864x576 with 1 Axes>"
      ]
     },
     "metadata": {
      "needs_background": "light"
     },
     "output_type": "display_data"
    },
    {
     "data": {
      "image/png": "[encoded data removed]",
      "text/plain": [
       "<Figure size 864x576 with 1 Axes>"
      ]
     },
     "metadata": {
      "needs_background": "light"
     },
     "output_type": "display_data"
    },
    {
     "data": {
      "image/png": "[encoded data removed]",
      "text/plain": [
       "<Figure size 864x576 with 1 Axes>"
      ]
     },
     "metadata": {
      "needs_background": "light"
     },
     "output_type": "display_data"
    }
   ],
   "source": [
    "# models loop execution\n",
    "for name, model in dict_of_models_2.items():\n",
    "    print(name)\n",
    "    evaluation(model)"
   ]
  },
  {
   "cell_type": "markdown",
   "metadata": {},
   "source": [
    "## Raw dataset \"covid_pp_df\" model hyperparameters and regularisation tunning"
   ]
  },
  {
   "cell_type": "code",
   "execution_count": 41,
   "metadata": {},
   "outputs": [
    {
     "data": {
      "text/plain": [
       "Pipeline(steps=[('pipeline',\n",
       "                 Pipeline(steps=[('selectkbest', SelectKBest(k=20))])),\n",
       "                ('standardscaler', StandardScaler()),\n",
       "                ('svc', SVC(random_state=0))])"
      ]
     },
     "execution_count": 41,
     "metadata": {},
     "output_type": "execute_result"
    }
   ],
   "source": [
    "SVM_2"
   ]
  },
  {
   "cell_type": "code",
   "execution_count": 42,
   "metadata": {},
   "outputs": [],
   "source": [
    "# hyper_params = {'svc__gamma':[1e-3, 1e-4],\n",
    "#                 'svc__C':[1,10,100,1000]}"
   ]
  },
  {
   "cell_type": "code",
   "execution_count": 43,
   "metadata": {},
   "outputs": [],
   "source": [
    "# grid = GridSearchCV(SVM_2, hyper_params, scoring='recall', cv=5)\n",
    "# grid.fit(X_train, y_train)\n",
    "\n",
    "# print(grid.best_params_)\n",
    "\n",
    "# y_pred = grid.predict(X_test)\n",
    "\n",
    "# print(classification_report(y_test, y_pred))"
   ]
  },
  {
   "cell_type": "code",
   "execution_count": 44,
   "metadata": {},
   "outputs": [],
   "source": [
    "# evaluation(grid.best_estimator_)"
   ]
  },
  {
   "cell_type": "code",
   "execution_count": 45,
   "metadata": {},
   "outputs": [],
   "source": [
    "# precision, recall, thresold =precision_recall_curve(y_test, grid.best_estimator_.decision_function(X_test)) "
   ]
  },
  {
   "cell_type": "code",
   "execution_count": 46,
   "metadata": {},
   "outputs": [],
   "source": [
    "# plt.plot(thresold, precision[:-1], label= 'precision')\n",
    "# plt.plot(thresold, precision[:-1], label= 'recall')\n",
    "# plt.legend()"
   ]
  },
  {
   "cell_type": "code",
   "execution_count": 47,
   "metadata": {},
   "outputs": [],
   "source": [
    "# def model_final(model, X, thresold=0):\n",
    "#     return model.decision_function(X)> thresold"
   ]
  },
  {
   "cell_type": "code",
   "execution_count": 48,
   "metadata": {},
   "outputs": [],
   "source": [
    "# y_pred = model_final(grid.best_estimator_, X_test, thresold=-0.02)"
   ]
  },
  {
   "cell_type": "code",
   "execution_count": 49,
   "metadata": {},
   "outputs": [],
   "source": [
    "# f1_score(y_test, y_pred)"
   ]
  },
  {
   "cell_type": "code",
   "execution_count": 50,
   "metadata": {},
   "outputs": [],
   "source": [
    "# recall_score(y_test,y_pred)"
   ]
  },
  {
   "cell_type": "code",
   "execution_count": 51,
   "metadata": {},
   "outputs": [],
   "source": [
    "# grid = RandomizedSearchCV(SVM_2, hyper_params, scoring='recall', cv=10, n_iter=100)\n",
    "# grid.fit(X_train, y_train)\n",
    "\n",
    "# print(grid.best_params_)\n",
    "\n",
    "# y_pred = grid.predict(X_test)\n",
    "\n",
    "# print(classification_report(y_test, y_pred))"
   ]
  },
  {
   "cell_type": "code",
   "execution_count": null,
   "metadata": {},
   "outputs": [],
   "source": []
  },
  {
   "cell_type": "code",
   "execution_count": null,
   "metadata": {},
   "outputs": [],
   "source": []
  },
  {
   "cell_type": "code",
   "execution_count": 52,
   "metadata": {
    "scrolled": true
   },
   "outputs": [],
   "source": [
    "# DecisionTree_2"
   ]
  },
  {
   "cell_type": "code",
   "execution_count": 46,
   "metadata": {},
   "outputs": [],
   "source": [
    "hyper_params_DecisionTree_2 = {'decisiontreeclassifier__criterion':[\"gini\", \"entropy\"],\n",
    "                'decisiontreeclassifier__max_depth':[1,2,3,4,5,6,7,None],\n",
    "                'decisiontreeclassifier__min_samples_leaf':np.arange(1, 9, 1),\n",
    "                'pipeline__polynomialfeatures__degree':np.arange(1, 4, 1),\n",
    "                'pipeline__selectkbest__k':np.arange(2, 21, 1)}"
   ]
  },
  {
   "cell_type": "code",
   "execution_count": 47,
   "metadata": {},
   "outputs": [],
   "source": [
    "hyper_params_DecisionTree_2_2 = {'decisiontreeclassifier__criterion':[\"gini\", \"entropy\"],\n",
    "                'decisiontreeclassifier__max_depth':[1,2,3,4,5,6,7,None],\n",
    "                'decisiontreeclassifier__min_samples_leaf':np.arange(1, 9, 1),\n",
    "                'pipeline__selectkbest__k':np.arange(2, 21, 1)}\n",
    "                "
   ]
  },
  {
   "cell_type": "code",
   "execution_count": 48,
   "metadata": {
    "scrolled": true
   },
   "outputs": [],
   "source": [
    "# grid = GridSearchCV(DecisionTree_2, hyper_params_DecisionTree_2, scoring='recall', cv=10)\n",
    "# grid.fit(X_train, y_train)\n",
    "\n",
    "# print(grid.best_params_)\n",
    "\n",
    "# y_pred = grid.predict(X_test)\n",
    "\n",
    "# print(classification_report(y_test, y_pred))"
   ]
  },
  {
   "cell_type": "code",
   "execution_count": 49,
   "metadata": {},
   "outputs": [],
   "source": [
    "# evaluation(grid.best_estimator_)"
   ]
  },
  {
   "cell_type": "code",
   "execution_count": 50,
   "metadata": {
    "scrolled": true
   },
   "outputs": [],
   "source": [
    "# grid = GridSearchCV(DecisionTree_2, hyper_params_DecisionTree_2_2, scoring='recall', cv=10)\n",
    "# grid.fit(X_train, y_train)\n",
    "\n",
    "# print(grid.best_params_)\n",
    "\n",
    "# y_pred = grid.predict(X_test)\n",
    "\n",
    "# print(classification_report(y_test, y_pred))"
   ]
  },
  {
   "cell_type": "code",
   "execution_count": 85,
   "metadata": {},
   "outputs": [],
   "source": [
    "# evaluation(grid.best_estimator_)"
   ]
  },
  {
   "cell_type": "code",
   "execution_count": null,
   "metadata": {},
   "outputs": [],
   "source": []
  },
  {
   "cell_type": "code",
   "execution_count": 51,
   "metadata": {},
   "outputs": [
    {
     "name": "stdout",
     "output_type": "stream",
     "text": [
      "{'pipeline__selectkbest__k': 18, 'pipeline__polynomialfeatures__degree': 2, 'decisiontreeclassifier__min_samples_leaf': 4, 'decisiontreeclassifier__max_depth': None, 'decisiontreeclassifier__criterion': 'gini'}\n",
      "              precision    recall  f1-score   support\n",
      "\n",
      "           0       0.75      0.26      0.39     13159\n",
      "           1       0.55      0.91      0.69     13159\n",
      "\n",
      "    accuracy                           0.59     26318\n",
      "   macro avg       0.65      0.59      0.54     26318\n",
      "weighted avg       0.65      0.59      0.54     26318\n",
      "\n"
     ]
    }
   ],
   "source": [
    "grid = RandomizedSearchCV(DecisionTree, hyper_params_DecisionTree_2, scoring='recall', cv=5, n_iter=100)\n",
    "grid.fit(X_train, y_train)\n",
    "\n",
    "print(grid.best_params_)\n",
    "\n",
    "y_pred = grid.predict(X_test)\n",
    "\n",
    "print(classification_report(y_test, y_pred))"
   ]
  },
  {
   "cell_type": "code",
   "execution_count": 52,
   "metadata": {},
   "outputs": [
    {
     "name": "stdout",
     "output_type": "stream",
     "text": [
      "{'pipeline__selectkbest__k': 6, 'decisiontreeclassifier__min_samples_leaf': 1, 'decisiontreeclassifier__max_depth': 2, 'decisiontreeclassifier__criterion': 'gini'}\n",
      "              precision    recall  f1-score   support\n",
      "\n",
      "           0       0.74      0.29      0.41     13159\n",
      "           1       0.56      0.90      0.69     13159\n",
      "\n",
      "    accuracy                           0.59     26318\n",
      "   macro avg       0.65      0.59      0.55     26318\n",
      "weighted avg       0.65      0.59      0.55     26318\n",
      "\n"
     ]
    }
   ],
   "source": [
    "grid = RandomizedSearchCV(DecisionTree_2, hyper_params_DecisionTree_2_2, scoring='recall', cv=5, n_iter=100)\n",
    "grid.fit(X_train, y_train)\n",
    "\n",
    "print(grid.best_params_)\n",
    "\n",
    "y_pred = grid.predict(X_test)\n",
    "\n",
    "print(classification_report(y_test, y_pred))"
   ]
  },
  {
   "cell_type": "code",
   "execution_count": 88,
   "metadata": {},
   "outputs": [
    {
     "data": {
      "text/plain": [
       "Pipeline(steps=[('pipeline',\n",
       "                 Pipeline(steps=[('selectkbest', SelectKBest(k=20))])),\n",
       "                ('adaboostclassifier', AdaBoostClassifier(random_state=0))])"
      ]
     },
     "execution_count": 88,
     "metadata": {},
     "output_type": "execute_result"
    }
   ],
   "source": [
    "AdaBoost_2"
   ]
  },
  {
   "cell_type": "code",
   "execution_count": 89,
   "metadata": {},
   "outputs": [],
   "source": [
    "# hyper_params_AdaBoost_2 = {'adaboostclassifier__n_estimators':[50,100,150,200]}"
   ]
  },
  {
   "cell_type": "code",
   "execution_count": 90,
   "metadata": {},
   "outputs": [],
   "source": [
    "hyper_params_AdaBoost_2 = {'adaboostclassifier__n_estimators':[50,75,100,150,200],\n",
    "                             'pipeline__selectkbest__k':np.arange(2, 21, 1)}"
   ]
  },
  {
   "cell_type": "code",
   "execution_count": 91,
   "metadata": {},
   "outputs": [],
   "source": [
    "# grid = GridSearchCV(AdaBoost_2, hyper_params_AdaBoost_2, scoring='recall', cv=10)\n",
    "# grid.fit(X_train, y_train)\n",
    "# # \n",
    "# print(grid.best_params_)\n",
    "\n",
    "# y_pred = grid.predict(X_test)\n",
    "\n",
    "# print(classification_report(y_test, y_pred))"
   ]
  },
  {
   "cell_type": "code",
   "execution_count": 92,
   "metadata": {},
   "outputs": [],
   "source": [
    "# evaluation(grid.best_estimator_)"
   ]
  },
  {
   "cell_type": "code",
   "execution_count": 93,
   "metadata": {},
   "outputs": [],
   "source": [
    "# grid = GridSearchCV(AdaBoost_2, hyper_params_AdaBoost_2_2, scoring='recall', cv=10)\n",
    "# grid.fit(X_train, y_train)\n",
    "\n",
    "# print(grid.best_params_)\n",
    "\n",
    "# y_pred = grid.predict(X_test)\n",
    "\n",
    "# print(classification_report(y_test, y_pred))"
   ]
  },
  {
   "cell_type": "code",
   "execution_count": 94,
   "metadata": {},
   "outputs": [],
   "source": [
    "# evaluation(grid.best_estimator_)"
   ]
  },
  {
   "cell_type": "code",
   "execution_count": 95,
   "metadata": {},
   "outputs": [
    {
     "data": {
      "text/plain": [
       "Pipeline(steps=[('pipeline',\n",
       "                 Pipeline(steps=[('polynomialfeatures',\n",
       "                                  PolynomialFeatures(include_bias=False)),\n",
       "                                 ('selectkbest', SelectKBest(k=20))])),\n",
       "                ('adaboostclassifier', AdaBoostClassifier(random_state=0))])"
      ]
     },
     "execution_count": 95,
     "metadata": {},
     "output_type": "execute_result"
    }
   ],
   "source": [
    "AdaBoost"
   ]
  },
  {
   "cell_type": "code",
   "execution_count": 96,
   "metadata": {},
   "outputs": [
    {
     "data": {
      "text/plain": [
       "Pipeline(steps=[('pipeline',\n",
       "                 Pipeline(steps=[('selectkbest', SelectKBest(k=20))])),\n",
       "                ('adaboostclassifier', AdaBoostClassifier(random_state=0))])"
      ]
     },
     "execution_count": 96,
     "metadata": {},
     "output_type": "execute_result"
    }
   ],
   "source": [
    "AdaBoost_2"
   ]
  },
  {
   "cell_type": "code",
   "execution_count": 97,
   "metadata": {
    "scrolled": true
   },
   "outputs": [
    {
     "name": "stderr",
     "output_type": "stream",
     "text": [
      "/home/mael/.pyenv/versions/3.7.6/envs/vivadata/lib/python3.7/site-packages/sklearn/model_selection/_search.py:282: UserWarning: The total space of parameters 95 is smaller than n_iter=100. Running 95 iterations. For exhaustive searches, use GridSearchCV.\n",
      "  % (grid_size, self.n_iter, grid_size), UserWarning)\n"
     ]
    },
    {
     "name": "stdout",
     "output_type": "stream",
     "text": [
      "{'pipeline__selectkbest__k': 2, 'adaboostclassifier__n_estimators': 50}\n",
      "              precision    recall  f1-score   support\n",
      "\n",
      "           0       0.73      0.29      0.41     13159\n",
      "           1       0.56      0.89      0.68     13159\n",
      "\n",
      "    accuracy                           0.59     26318\n",
      "   macro avg       0.64      0.59      0.55     26318\n",
      "weighted avg       0.64      0.59      0.55     26318\n",
      "\n"
     ]
    }
   ],
   "source": [
    "grid = RandomizedSearchCV(AdaBoost_2, hyper_params_AdaBoost_2, scoring='recall', cv=5, n_iter=100)\n",
    "grid.fit(X_train, y_train)\n",
    "\n",
    "print(grid.best_params_)\n",
    "\n",
    "y_pred = grid.predict(X_test)\n",
    "\n",
    "print(classification_report(y_test, y_pred))"
   ]
  },
  {
   "cell_type": "code",
   "execution_count": 71,
   "metadata": {},
   "outputs": [],
   "source": [
    "hyper_params_AdaBoost = {'adaboostclassifier__n_estimators':[50,75,100,150,200],\n",
    "                         'pipeline__polynomialfeatures__degree':np.arange(1, 4, 1),    \n",
    "                         'pipeline__selectkbest__k':np.arange(2, 21, 1)}"
   ]
  },
  {
   "cell_type": "code",
   "execution_count": 72,
   "metadata": {},
   "outputs": [
    {
     "data": {
      "text/plain": [
       "Pipeline(steps=[('pipeline',\n",
       "                 Pipeline(steps=[('polynomialfeatures',\n",
       "                                  PolynomialFeatures(include_bias=False)),\n",
       "                                 ('selectkbest', SelectKBest(k=20))])),\n",
       "                ('adaboostclassifier', AdaBoostClassifier(random_state=0))])"
      ]
     },
     "execution_count": 72,
     "metadata": {},
     "output_type": "execute_result"
    }
   ],
   "source": [
    "AdaBoost"
   ]
  },
  {
   "cell_type": "code",
   "execution_count": 73,
   "metadata": {},
   "outputs": [
    {
     "name": "stdout",
     "output_type": "stream",
     "text": [
      "{'pipeline__selectkbest__k': 19, 'pipeline__polynomialfeatures__degree': 2, 'adaboostclassifier__n_estimators': 200}\n",
      "              precision    recall  f1-score   support\n",
      "\n",
      "           0       0.74      0.28      0.41     13159\n",
      "           1       0.56      0.90      0.69     13159\n",
      "\n",
      "    accuracy                           0.59     26318\n",
      "   macro avg       0.65      0.59      0.55     26318\n",
      "weighted avg       0.65      0.59      0.55     26318\n",
      "\n"
     ]
    }
   ],
   "source": [
    "grid = RandomizedSearchCV(AdaBoost, hyper_params_AdaBoost, scoring='recall', cv=10, n_iter=100)\n",
    "grid.fit(X_train, y_train)\n",
    "\n",
    "print(grid.best_params_)\n",
    "\n",
    "y_pred = grid.predict(X_test)\n",
    "\n",
    "print(classification_report(y_test, y_pred))"
   ]
  },
  {
   "cell_type": "code",
   "execution_count": 74,
   "metadata": {},
   "outputs": [],
   "source": [
    "def model_final(model, X, thresold=0):\n",
    "    return model.decision_function(X)> thresold"
   ]
  },
  {
   "cell_type": "code",
   "execution_count": 75,
   "metadata": {},
   "outputs": [],
   "source": [
    "y_pred = model_final(grid.best_estimator_, X_test, thresold=-1)"
   ]
  },
  {
   "cell_type": "code",
   "execution_count": 76,
   "metadata": {},
   "outputs": [
    {
     "data": {
      "text/plain": [
       "0.6666666666666666"
      ]
     },
     "execution_count": 76,
     "metadata": {},
     "output_type": "execute_result"
    }
   ],
   "source": [
    "f1_score(y_test, y_pred)"
   ]
  },
  {
   "cell_type": "code",
   "execution_count": 77,
   "metadata": {},
   "outputs": [
    {
     "data": {
      "text/plain": [
       "1.0"
      ]
     },
     "execution_count": 77,
     "metadata": {},
     "output_type": "execute_result"
    }
   ],
   "source": [
    "recall_score(y_test,y_pred)"
   ]
  },
  {
   "cell_type": "code",
   "execution_count": null,
   "metadata": {},
   "outputs": [],
   "source": []
  },
  {
   "cell_type": "code",
   "execution_count": null,
   "metadata": {},
   "outputs": [],
   "source": []
  }
 ],
 "metadata": {
  "kernelspec": {
   "display_name": "Python 3",
   "language": "python",
   "name": "python3"
  },
  "language_info": {
   "codemirror_mode": {
    "name": "ipython",
    "version": 3
   },
   "file_extension": ".py",
   "mimetype": "text/x-python",
   "name": "python",
   "nbconvert_exporter": "python",
   "pygments_lexer": "ipython3",
   "version": "3.7.6"
  }
 },
 "nbformat": 4,
 "nbformat_minor": 4
}
